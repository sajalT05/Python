{
 "cells": [
  {
   "cell_type": "code",
   "execution_count": 2,
   "id": "5af05fd3",
   "metadata": {},
   "outputs": [
    {
     "data": {
      "text/plain": [
       "'stringname'"
      ]
     },
     "execution_count": 2,
     "metadata": {},
     "output_type": "execute_result"
    }
   ],
   "source": [
    "string=\"stringname\"\n",
    "string"
   ]
  },
  {
   "cell_type": "code",
   "execution_count": 36,
   "id": "44445993",
   "metadata": {},
   "outputs": [
    {
     "data": {
      "text/plain": [
       "'w'"
      ]
     },
     "execution_count": 36,
     "metadata": {},
     "output_type": "execute_result"
    }
   ],
   "source": [
    "# get\n",
    "# index\n",
    "string[2]"
   ]
  },
  {
   "cell_type": "code",
   "execution_count": 4,
   "id": "de49aae3",
   "metadata": {},
   "outputs": [],
   "source": [
    "# slicing"
   ]
  },
  {
   "cell_type": "code",
   "execution_count": 6,
   "id": "bdbec7cc",
   "metadata": {},
   "outputs": [
    {
     "data": {
      "text/plain": [
       "'ti'"
      ]
     },
     "execution_count": 6,
     "metadata": {},
     "output_type": "execute_result"
    }
   ],
   "source": [
    "# posititve slicing\n",
    "string[1:5:2]"
   ]
  },
  {
   "cell_type": "code",
   "execution_count": 10,
   "id": "cc7b9552",
   "metadata": {},
   "outputs": [
    {
     "data": {
      "text/plain": [
       "'nnm'"
      ]
     },
     "execution_count": 10,
     "metadata": {},
     "output_type": "execute_result"
    }
   ],
   "source": [
    "# negative slicing\n",
    "string[-6:-1:2]"
   ]
  },
  {
   "cell_type": "code",
   "execution_count": 11,
   "id": "ce89e18a",
   "metadata": {},
   "outputs": [
    {
     "data": {
      "text/plain": [
       "'emangnirts'"
      ]
     },
     "execution_count": 11,
     "metadata": {},
     "output_type": "execute_result"
    }
   ],
   "source": [
    "# inversion\n",
    "string[::-1]"
   ]
  },
  {
   "cell_type": "code",
   "execution_count": 16,
   "id": "b3e17e10",
   "metadata": {},
   "outputs": [],
   "source": [
    "# update"
   ]
  },
  {
   "cell_type": "code",
   "execution_count": 19,
   "id": "38563fe0",
   "metadata": {},
   "outputs": [],
   "source": [
    "# index\n",
    "# string[3]='l'\n",
    "# NOT POSSIBLE with index"
   ]
  },
  {
   "cell_type": "code",
   "execution_count": 20,
   "id": "effbfd1e",
   "metadata": {},
   "outputs": [
    {
     "data": {
      "text/plain": [
       "'newstringname'"
      ]
     },
     "execution_count": 20,
     "metadata": {},
     "output_type": "execute_result"
    }
   ],
   "source": [
    "# entire\n",
    "string=\"newstringname\"\n",
    "string"
   ]
  },
  {
   "cell_type": "code",
   "execution_count": 23,
   "id": "e1bc2a0e",
   "metadata": {},
   "outputs": [],
   "source": [
    "# delete string\n",
    "string1='string1'\n",
    "del string1\n",
    "# string1\n",
    "# SUCCESFULLY DELETED"
   ]
  },
  {
   "cell_type": "code",
   "execution_count": 35,
   "id": "e479d836",
   "metadata": {},
   "outputs": [
    {
     "data": {
      "text/plain": [
       "' \\' \\\\ \" s/ns \\t '"
      ]
     },
     "execution_count": 35,
     "metadata": {},
     "output_type": "execute_result"
    }
   ],
   "source": [
    "# escape sequence\n",
    "stringcharacters=\" ' \\\\ \\\" s/ns \\t \"\n",
    "stringcharacters"
   ]
  },
  {
   "cell_type": "code",
   "execution_count": 38,
   "id": "2ffb41ac",
   "metadata": {},
   "outputs": [
    {
     "data": {
      "text/plain": [
       "'helloboy'"
      ]
     },
     "execution_count": 38,
     "metadata": {},
     "output_type": "execute_result"
    }
   ],
   "source": [
    "# adding two strings\n",
    "addstrings='hello'+'boy'\n",
    "addstrings"
   ]
  },
  {
   "cell_type": "code",
   "execution_count": 41,
   "id": "15b7c43a",
   "metadata": {},
   "outputs": [],
   "source": [
    "# ASCII"
   ]
  },
  {
   "cell_type": "code",
   "execution_count": null,
   "id": "94ac65a1",
   "metadata": {},
   "outputs": [],
   "source": []
  }
 ],
 "metadata": {
  "kernelspec": {
   "display_name": "Python 3 (ipykernel)",
   "language": "python",
   "name": "python3"
  },
  "language_info": {
   "codemirror_mode": {
    "name": "ipython",
    "version": 3
   },
   "file_extension": ".py",
   "mimetype": "text/x-python",
   "name": "python",
   "nbconvert_exporter": "python",
   "pygments_lexer": "ipython3",
   "version": "3.9.12"
  }
 },
 "nbformat": 4,
 "nbformat_minor": 5
}
