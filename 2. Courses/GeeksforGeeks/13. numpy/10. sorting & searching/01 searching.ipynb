{
 "cells": [
  {
   "cell_type": "code",
   "execution_count": 2,
   "id": "a9d7b27f",
   "metadata": {},
   "outputs": [],
   "source": [
    "import numpy as np"
   ]
  },
  {
   "cell_type": "code",
   "execution_count": 3,
   "id": "01f933b4",
   "metadata": {},
   "outputs": [
    {
     "data": {
      "text/plain": [
       "array([10, 32, 30, 50, 20, 82, 91, 45])"
      ]
     },
     "execution_count": 3,
     "metadata": {},
     "output_type": "execute_result"
    }
   ],
   "source": [
    "arr = np.array([10, 32, 30, 50, 20, 82, 91, 45])\n",
    "arr"
   ]
  },
  {
   "cell_type": "code",
   "execution_count": 6,
   "id": "297190c9",
   "metadata": {},
   "outputs": [
    {
     "data": {
      "text/plain": [
       "(array([2], dtype=int64),)"
      ]
     },
     "execution_count": 6,
     "metadata": {},
     "output_type": "execute_result"
    }
   ],
   "source": [
    "# .where(condition[,x,y])\n",
    "'''\n",
    "returns the indices of elements in an input array where the given condition is satisfied.\n",
    "'''\n",
    "'''\n",
    "condition : When True, yield x, otherwise yield y.\n",
    "x, y : Values from which to choose. x, y and condition need to be broadcastable to some shape. \n",
    "'''\n",
    "np.where(arr==30)"
   ]
  },
  {
   "cell_type": "code",
   "execution_count": 18,
   "id": "42f3609d",
   "metadata": {},
   "outputs": [
    {
     "data": {
      "text/plain": [
       "[1, 2, 2, 3, 3, 3, 4, 5, 6, 6]"
      ]
     },
     "execution_count": 18,
     "metadata": {},
     "output_type": "execute_result"
    }
   ],
   "source": [
    "# .searchsorted(input_array,num,side,sorter)\n",
    "'''\n",
    "find the indices into a sorted array arr such that, \n",
    "    if elements are inserted before the indices, the order of arr would be still preserved.\n",
    "\n",
    "Here, a binary search is used to find the required insertion indices\n",
    "'''\n",
    "'''\n",
    "arr : [array_like] Input array. If sorter is None, then it must be sorted in ascending order, \n",
    "    otherwise sorter must be an array of indices that sort it.\n",
    "num : [array_like]The Values which we want to insert into arr.\n",
    "side : [‘left’, ‘right’], optional.If ‘left’, \n",
    "    the index of the first suitable location found is given. \n",
    "    If ‘right’, return the last such index. \n",
    "    If there is no suitable index, return either 0 or N (where N is the length of a).\n",
    "num : [array_like, Optional] array of integer indices that sort array a into ascending order. \n",
    "    They are typically the result of argsort.\n",
    "'''\n",
    "arr = [1, 2, 2, 3, 3, 3, 4, 5, 6, 6]\n",
    "arr"
   ]
  },
  {
   "cell_type": "code",
   "execution_count": 21,
   "id": "456e5d63",
   "metadata": {},
   "outputs": [
    {
     "data": {
      "text/plain": [
       "6"
      ]
     },
     "execution_count": 21,
     "metadata": {},
     "output_type": "execute_result"
    }
   ],
   "source": [
    "np.searchsorted(arr, 4, side=\"left\")"
   ]
  },
  {
   "cell_type": "code",
   "execution_count": 22,
   "id": "bb3e13d9",
   "metadata": {},
   "outputs": [
    {
     "data": {
      "text/plain": [
       "7"
      ]
     },
     "execution_count": 22,
     "metadata": {},
     "output_type": "execute_result"
    }
   ],
   "source": [
    "np.searchsorted(arr, 4, side=\"right\")"
   ]
  },
  {
   "cell_type": "code",
   "execution_count": null,
   "id": "6b3b43f3",
   "metadata": {},
   "outputs": [],
   "source": []
  }
 ],
 "metadata": {
  "kernelspec": {
   "display_name": "Python 3 (ipykernel)",
   "language": "python",
   "name": "python3"
  },
  "language_info": {
   "codemirror_mode": {
    "name": "ipython",
    "version": 3
   },
   "file_extension": ".py",
   "mimetype": "text/x-python",
   "name": "python",
   "nbconvert_exporter": "python",
   "pygments_lexer": "ipython3",
   "version": "3.9.12"
  }
 },
 "nbformat": 4,
 "nbformat_minor": 5
}
