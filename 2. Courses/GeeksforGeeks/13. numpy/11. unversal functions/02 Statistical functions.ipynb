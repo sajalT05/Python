{
 "cells": [
  {
   "cell_type": "code",
   "execution_count": 1,
   "id": "95874a26",
   "metadata": {},
   "outputs": [],
   "source": [
    "import numpy as np"
   ]
  },
  {
   "cell_type": "code",
   "execution_count": 3,
   "id": "d0f335be",
   "metadata": {},
   "outputs": [
    {
     "data": {
      "text/plain": [
       "array([50.7 , 52.5 , 50.  , 58.  , 55.63, 73.25, 49.5 , 45.  ])"
      ]
     },
     "execution_count": 3,
     "metadata": {},
     "output_type": "execute_result"
    }
   ],
   "source": [
    "array = np.array([50.7, 52.5, 50, 58, 55.63, 73.25, 49.5, 45])\n",
    "array"
   ]
  },
  {
   "cell_type": "code",
   "execution_count": 5,
   "id": "9db5e040",
   "metadata": {},
   "outputs": [
    {
     "data": {
      "text/plain": [
       "45.0"
      ]
     },
     "execution_count": 5,
     "metadata": {},
     "output_type": "execute_result"
    }
   ],
   "source": [
    "# minimum\n",
    "np.amin(array)"
   ]
  },
  {
   "cell_type": "code",
   "execution_count": 6,
   "id": "e5ee2e5e",
   "metadata": {},
   "outputs": [
    {
     "data": {
      "text/plain": [
       "73.25"
      ]
     },
     "execution_count": 6,
     "metadata": {},
     "output_type": "execute_result"
    }
   ],
   "source": [
    "# maximum\n",
    "np.amax(array)"
   ]
  },
  {
   "cell_type": "code",
   "execution_count": 7,
   "id": "faf942ee",
   "metadata": {},
   "outputs": [
    {
     "data": {
      "text/plain": [
       "28.25"
      ]
     },
     "execution_count": 7,
     "metadata": {},
     "output_type": "execute_result"
    }
   ],
   "source": [
    "# range\n",
    "np.ptp(array)"
   ]
  },
  {
   "cell_type": "code",
   "execution_count": 8,
   "id": "87b8d9d1",
   "metadata": {},
   "outputs": [
    {
     "data": {
      "text/plain": [
       "54.3225"
      ]
     },
     "execution_count": 8,
     "metadata": {},
     "output_type": "execute_result"
    }
   ],
   "source": [
    "# mean\n",
    "np.mean(array)"
   ]
  },
  {
   "cell_type": "code",
   "execution_count": 9,
   "id": "c2543a1c",
   "metadata": {},
   "outputs": [
    {
     "data": {
      "text/plain": [
       "51.6"
      ]
     },
     "execution_count": 9,
     "metadata": {},
     "output_type": "execute_result"
    }
   ],
   "source": [
    "# median\n",
    "np.median(array)"
   ]
  },
  {
   "cell_type": "code",
   "execution_count": 10,
   "id": "2201867a",
   "metadata": {},
   "outputs": [
    {
     "data": {
      "text/plain": [
       "51.6"
      ]
     },
     "execution_count": 10,
     "metadata": {},
     "output_type": "execute_result"
    }
   ],
   "source": [
    "# percentile of 50%\n",
    "np.percentile(array,50)"
   ]
  },
  {
   "cell_type": "code",
   "execution_count": 14,
   "id": "f4abddcd",
   "metadata": {},
   "outputs": [
    {
     "data": {
      "text/plain": [
       "64.84716875"
      ]
     },
     "execution_count": 14,
     "metadata": {},
     "output_type": "execute_result"
    }
   ],
   "source": [
    "# variation\n",
    "np.var(array)"
   ]
  },
  {
   "cell_type": "code",
   "execution_count": 11,
   "id": "4e15d0b1",
   "metadata": {},
   "outputs": [
    {
     "data": {
      "text/plain": [
       "8.052773978574091"
      ]
     },
     "execution_count": 11,
     "metadata": {},
     "output_type": "execute_result"
    }
   ],
   "source": [
    "# standard deviation\n",
    "np.std(array)"
   ]
  },
  {
   "cell_type": "code",
   "execution_count": 15,
   "id": "d69f1609",
   "metadata": {},
   "outputs": [
    {
     "data": {
      "text/plain": [
       "54.3225"
      ]
     },
     "execution_count": 15,
     "metadata": {},
     "output_type": "execute_result"
    }
   ],
   "source": [
    "# average\n",
    "np.average(array)"
   ]
  },
  {
   "cell_type": "code",
   "execution_count": null,
   "id": "3ae761ff",
   "metadata": {},
   "outputs": [],
   "source": []
  }
 ],
 "metadata": {
  "kernelspec": {
   "display_name": "Python 3 (ipykernel)",
   "language": "python",
   "name": "python3"
  },
  "language_info": {
   "codemirror_mode": {
    "name": "ipython",
    "version": 3
   },
   "file_extension": ".py",
   "mimetype": "text/x-python",
   "name": "python",
   "nbconvert_exporter": "python",
   "pygments_lexer": "ipython3",
   "version": "3.9.12"
  }
 },
 "nbformat": 4,
 "nbformat_minor": 5
}
