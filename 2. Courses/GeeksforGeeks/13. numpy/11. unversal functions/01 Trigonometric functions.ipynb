{
 "cells": [
  {
   "cell_type": "code",
   "execution_count": 1,
   "id": "a7dc3883",
   "metadata": {},
   "outputs": [],
   "source": [
    "import numpy as np"
   ]
  },
  {
   "cell_type": "code",
   "execution_count": 5,
   "id": "df7e25fb",
   "metadata": {},
   "outputs": [
    {
     "data": {
      "text/plain": [
       "array([  0,  30,  45,  60,  90, 180])"
      ]
     },
     "execution_count": 5,
     "metadata": {},
     "output_type": "execute_result"
    }
   ],
   "source": [
    "# numpy array of anges\n",
    "angles=np.array([0,30,45,60,90,180])\n",
    "angles"
   ]
  },
  {
   "cell_type": "code",
   "execution_count": 6,
   "id": "dd52a0e9",
   "metadata": {},
   "outputs": [
    {
     "data": {
      "text/plain": [
       "array([0.        , 0.52359878, 0.78539816, 1.04719755, 1.57079633,\n",
       "       3.14159265])"
      ]
     },
     "execution_count": 6,
     "metadata": {},
     "output_type": "execute_result"
    }
   ],
   "source": [
    "# convert degree into randians\n",
    "radians=np.deg2rad(angles)\n",
    "radians"
   ]
  },
  {
   "cell_type": "code",
   "execution_count": 42,
   "id": "8ba70e65",
   "metadata": {},
   "outputs": [
    {
     "data": {
      "text/plain": [
       "array([  0.,  30.,  45.,  60.,  90., 180.])"
      ]
     },
     "execution_count": 42,
     "metadata": {},
     "output_type": "execute_result"
    }
   ],
   "source": [
    "# convert radians to degree\n",
    "degree=np.rad2deg(radians)\n",
    "degree"
   ]
  },
  {
   "cell_type": "code",
   "execution_count": 13,
   "id": "405855cb",
   "metadata": {},
   "outputs": [],
   "source": [
    "# trigonometric"
   ]
  },
  {
   "cell_type": "code",
   "execution_count": 14,
   "id": "4f468cc2",
   "metadata": {},
   "outputs": [
    {
     "data": {
      "text/plain": [
       "array([0.00000000e+00, 5.00000000e-01, 7.07106781e-01, 8.66025404e-01,\n",
       "       1.00000000e+00, 1.22464680e-16])"
      ]
     },
     "execution_count": 14,
     "metadata": {},
     "output_type": "execute_result"
    }
   ],
   "source": [
    "# sine\n",
    "sine=np.sin(radians)\n",
    "sine"
   ]
  },
  {
   "cell_type": "code",
   "execution_count": 19,
   "id": "1cefdf6e",
   "metadata": {},
   "outputs": [
    {
     "data": {
      "text/plain": [
       "array([ 1.00000000e+00,  8.66025404e-01,  7.07106781e-01,  5.00000000e-01,\n",
       "        6.12323400e-17, -1.00000000e+00])"
      ]
     },
     "execution_count": 19,
     "metadata": {},
     "output_type": "execute_result"
    }
   ],
   "source": [
    "# cosine\n",
    "cosine=np.cos(radians)\n",
    "cosine"
   ]
  },
  {
   "cell_type": "code",
   "execution_count": 23,
   "id": "2031d471",
   "metadata": {},
   "outputs": [
    {
     "data": {
      "text/plain": [
       "array([ 0.00000000e+00,  5.77350269e-01,  1.00000000e+00,  1.73205081e+00,\n",
       "        1.63312394e+16, -1.22464680e-16])"
      ]
     },
     "execution_count": 23,
     "metadata": {},
     "output_type": "execute_result"
    }
   ],
   "source": [
    "# tangent\n",
    "tangent=np.tan(radians)\n",
    "tangent"
   ]
  },
  {
   "cell_type": "code",
   "execution_count": 20,
   "id": "5ede1174",
   "metadata": {},
   "outputs": [],
   "source": [
    "# inverse trigonometric"
   ]
  },
  {
   "cell_type": "code",
   "execution_count": 29,
   "id": "6d14ffb9",
   "metadata": {},
   "outputs": [
    {
     "data": {
      "text/plain": [
       "array([0.00000000e+00, 5.23598776e-01, 7.85398163e-01, 1.04719755e+00,\n",
       "       1.57079633e+00, 1.22464680e-16])"
      ]
     },
     "execution_count": 29,
     "metadata": {},
     "output_type": "execute_result"
    }
   ],
   "source": [
    "# inverse sine\n",
    "sine_inverse=np.arcsin(sine)\n",
    "sine_inverse"
   ]
  },
  {
   "cell_type": "code",
   "execution_count": 30,
   "id": "54a37177",
   "metadata": {},
   "outputs": [
    {
     "data": {
      "text/plain": [
       "array([0.        , 0.52359878, 0.78539816, 1.04719755, 1.57079633,\n",
       "       3.14159265])"
      ]
     },
     "execution_count": 30,
     "metadata": {},
     "output_type": "execute_result"
    }
   ],
   "source": [
    "# inverse cosine\n",
    "cosine_inverse=np.arccos(cosine)\n",
    "cosine_inverse"
   ]
  },
  {
   "cell_type": "code",
   "execution_count": 31,
   "id": "2618d456",
   "metadata": {},
   "outputs": [],
   "source": [
    "# hyperbolic trigonometry"
   ]
  },
  {
   "cell_type": "code",
   "execution_count": 32,
   "id": "07272335",
   "metadata": {},
   "outputs": [
    {
     "data": {
      "text/plain": [
       "array([ 0.        ,  0.54785347,  0.86867096,  1.24936705,  2.3012989 ,\n",
       "       11.54873936])"
      ]
     },
     "execution_count": 32,
     "metadata": {},
     "output_type": "execute_result"
    }
   ],
   "source": [
    "# hyperbolic sine\n",
    "sine_hyperbolic=np.sinh(radians)\n",
    "sine_hyperbolic"
   ]
  },
  {
   "cell_type": "code",
   "execution_count": 33,
   "id": "43e6bd95",
   "metadata": {},
   "outputs": [
    {
     "data": {
      "text/plain": [
       "array([ 1.        ,  1.14023832,  1.32460909,  1.60028686,  2.50917848,\n",
       "       11.59195328])"
      ]
     },
     "execution_count": 33,
     "metadata": {},
     "output_type": "execute_result"
    }
   ],
   "source": [
    "# hyperbolic cosine\n",
    "cosine_hyperbolic=np.cosh(radians)\n",
    "cosine_hyperbolic"
   ]
  },
  {
   "cell_type": "code",
   "execution_count": 36,
   "id": "e715af51",
   "metadata": {},
   "outputs": [],
   "source": [
    "# inverse trigonometric hyperbolic"
   ]
  },
  {
   "cell_type": "code",
   "execution_count": 37,
   "id": "46f0ec58",
   "metadata": {},
   "outputs": [
    {
     "data": {
      "text/plain": [
       "array([0.        , 0.52359878, 0.78539816, 1.04719755, 1.57079633,\n",
       "       3.14159265])"
      ]
     },
     "execution_count": 37,
     "metadata": {},
     "output_type": "execute_result"
    }
   ],
   "source": [
    "# inverse sine hyperbolic\n",
    "inverse_sine_hyperbolic=np.arcsinh(sine_hyperbolic)\n",
    "inverse_sine_hyperbolic"
   ]
  },
  {
   "cell_type": "code",
   "execution_count": 39,
   "id": "a6bd3227",
   "metadata": {},
   "outputs": [
    {
     "data": {
      "text/plain": [
       "array([0.        , 0.52359878, 0.78539816, 1.04719755, 1.57079633,\n",
       "       3.14159265])"
      ]
     },
     "execution_count": 39,
     "metadata": {},
     "output_type": "execute_result"
    }
   ],
   "source": [
    "# inverse cosine hyperbolic\n",
    "inverse_cosine_hyperbolic=np.arccosh(cosine_hyperbolic)\n",
    "inverse_cosine_hyperbolic"
   ]
  },
  {
   "cell_type": "code",
   "execution_count": null,
   "id": "082e01fb",
   "metadata": {},
   "outputs": [],
   "source": []
  }
 ],
 "metadata": {
  "kernelspec": {
   "display_name": "Python 3 (ipykernel)",
   "language": "python",
   "name": "python3"
  },
  "language_info": {
   "codemirror_mode": {
    "name": "ipython",
    "version": 3
   },
   "file_extension": ".py",
   "mimetype": "text/x-python",
   "name": "python",
   "nbconvert_exporter": "python",
   "pygments_lexer": "ipython3",
   "version": "3.9.12"
  }
 },
 "nbformat": 4,
 "nbformat_minor": 5
}
