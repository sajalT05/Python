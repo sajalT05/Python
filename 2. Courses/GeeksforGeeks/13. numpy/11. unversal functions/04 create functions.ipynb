{
 "cells": [
  {
   "cell_type": "code",
   "execution_count": 45,
   "id": "f04b0ad7",
   "metadata": {},
   "outputs": [],
   "source": [
    "import numpy as np"
   ]
  },
  {
   "cell_type": "code",
   "execution_count": 46,
   "id": "48df9031",
   "metadata": {},
   "outputs": [],
   "source": [
    "# create function\n",
    "def power(number,exponent):\n",
    "    '''divide values by 2 and return integer valuyes\n",
    "    '''\n",
    "    return number**exponent"
   ]
  },
  {
   "cell_type": "code",
   "execution_count": 47,
   "id": "77caf813",
   "metadata": {},
   "outputs": [],
   "source": [
    "# add into numpy\n",
    "\"\"\"\n",
    "use frompyfunc(function,input_arguments,outpur_arguments)\n",
    "\"\"\"\n",
    "power_function=np.frompyfunc(power,2,1)"
   ]
  },
  {
   "cell_type": "code",
   "execution_count": 48,
   "id": "af684566",
   "metadata": {},
   "outputs": [
    {
     "data": {
      "text/plain": [
       "array([ 1,  2,  3,  4,  5,  6,  7,  8,  9, 10])"
      ]
     },
     "execution_count": 48,
     "metadata": {},
     "output_type": "execute_result"
    }
   ],
   "source": [
    "array=np.arange(1,11)\n",
    "array"
   ]
  },
  {
   "cell_type": "code",
   "execution_count": 49,
   "id": "6198b221",
   "metadata": {},
   "outputs": [
    {
     "data": {
      "text/plain": [
       "array([1, 32, 243, 1024, 3125, 7776, 16807, 32768, 59049, 100000],\n",
       "      dtype=object)"
      ]
     },
     "execution_count": 49,
     "metadata": {},
     "output_type": "execute_result"
    }
   ],
   "source": [
    "# use function over numpy array\n",
    "power_function_array=power_function(array,5)\n",
    "power_function_array"
   ]
  },
  {
   "cell_type": "code",
   "execution_count": null,
   "id": "1b6a4a49",
   "metadata": {},
   "outputs": [],
   "source": []
  },
  {
   "cell_type": "code",
   "execution_count": null,
   "id": "3f46293c",
   "metadata": {},
   "outputs": [],
   "source": []
  }
 ],
 "metadata": {
  "kernelspec": {
   "display_name": "Python 3 (ipykernel)",
   "language": "python",
   "name": "python3"
  },
  "language_info": {
   "codemirror_mode": {
    "name": "ipython",
    "version": 3
   },
   "file_extension": ".py",
   "mimetype": "text/x-python",
   "name": "python",
   "nbconvert_exporter": "python",
   "pygments_lexer": "ipython3",
   "version": "3.9.12"
  }
 },
 "nbformat": 4,
 "nbformat_minor": 5
}
