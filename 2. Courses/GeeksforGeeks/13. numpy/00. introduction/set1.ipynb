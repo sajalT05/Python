{
 "cells": [
  {
   "cell_type": "code",
   "execution_count": 1,
   "id": "1a23f946",
   "metadata": {},
   "outputs": [],
   "source": [
    "import numpy as np"
   ]
  },
  {
   "cell_type": "code",
   "execution_count": 23,
   "id": "0bae0af5",
   "metadata": {},
   "outputs": [],
   "source": [
    "array=np.array([[1,5,9],[2,6,8]])"
   ]
  },
  {
   "cell_type": "code",
   "execution_count": 24,
   "id": "25146473",
   "metadata": {},
   "outputs": [
    {
     "data": {
      "text/plain": [
       "numpy.ndarray"
      ]
     },
     "execution_count": 24,
     "metadata": {},
     "output_type": "execute_result"
    }
   ],
   "source": [
    "type(array)"
   ]
  },
  {
   "cell_type": "code",
   "execution_count": 25,
   "id": "97b87af2",
   "metadata": {},
   "outputs": [
    {
     "data": {
      "text/plain": [
       "2"
      ]
     },
     "execution_count": 25,
     "metadata": {},
     "output_type": "execute_result"
    }
   ],
   "source": [
    "array.ndim"
   ]
  },
  {
   "cell_type": "code",
   "execution_count": 26,
   "id": "728afb71",
   "metadata": {},
   "outputs": [
    {
     "data": {
      "text/plain": [
       "(2, 3)"
      ]
     },
     "execution_count": 26,
     "metadata": {},
     "output_type": "execute_result"
    }
   ],
   "source": [
    "array.shape"
   ]
  },
  {
   "cell_type": "code",
   "execution_count": 27,
   "id": "6d313cb2",
   "metadata": {},
   "outputs": [
    {
     "data": {
      "text/plain": [
       "6"
      ]
     },
     "execution_count": 27,
     "metadata": {},
     "output_type": "execute_result"
    }
   ],
   "source": [
    "array.size"
   ]
  },
  {
   "cell_type": "code",
   "execution_count": 28,
   "id": "d43bba79",
   "metadata": {},
   "outputs": [
    {
     "data": {
      "text/plain": [
       "dtype('int32')"
      ]
     },
     "execution_count": 28,
     "metadata": {},
     "output_type": "execute_result"
    }
   ],
   "source": [
    "array.dtype"
   ]
  },
  {
   "cell_type": "code",
   "execution_count": 29,
   "id": "46b28046",
   "metadata": {},
   "outputs": [],
   "source": [
    "floatarray=np.array([[1,5,9],[2,6,8]], dtype='float')"
   ]
  },
  {
   "cell_type": "code",
   "execution_count": 30,
   "id": "2abcdddc",
   "metadata": {},
   "outputs": [
    {
     "data": {
      "text/plain": [
       "array([[1., 5., 9.],\n",
       "       [2., 6., 8.]])"
      ]
     },
     "execution_count": 30,
     "metadata": {},
     "output_type": "execute_result"
    }
   ],
   "source": [
    "floatarray"
   ]
  },
  {
   "cell_type": "code",
   "execution_count": 31,
   "id": "1e40ce60",
   "metadata": {},
   "outputs": [
    {
     "data": {
      "text/plain": [
       "dtype('float64')"
      ]
     },
     "execution_count": 31,
     "metadata": {},
     "output_type": "execute_result"
    }
   ],
   "source": [
    "floatarray.dtype"
   ]
  },
  {
   "cell_type": "code",
   "execution_count": 32,
   "id": "27f1b66b",
   "metadata": {},
   "outputs": [],
   "source": [
    "complex=np.array([[1,5,9],[2,6,8]], dtype='complex')"
   ]
  },
  {
   "cell_type": "code",
   "execution_count": 33,
   "id": "3c7cec92",
   "metadata": {},
   "outputs": [
    {
     "data": {
      "text/plain": [
       "array([[1.+0.j, 5.+0.j, 9.+0.j],\n",
       "       [2.+0.j, 6.+0.j, 8.+0.j]])"
      ]
     },
     "execution_count": 33,
     "metadata": {},
     "output_type": "execute_result"
    }
   ],
   "source": [
    "complex"
   ]
  },
  {
   "cell_type": "code",
   "execution_count": 34,
   "id": "69f52187",
   "metadata": {},
   "outputs": [
    {
     "data": {
      "text/plain": [
       "dtype('complex128')"
      ]
     },
     "execution_count": 34,
     "metadata": {},
     "output_type": "execute_result"
    }
   ],
   "source": [
    "complex.dtype"
   ]
  },
  {
   "cell_type": "code",
   "execution_count": 35,
   "id": "3b99d9bb",
   "metadata": {},
   "outputs": [],
   "source": [
    "tuple=np.array((1,2,3))"
   ]
  },
  {
   "cell_type": "code",
   "execution_count": 36,
   "id": "c744d0b4",
   "metadata": {},
   "outputs": [
    {
     "data": {
      "text/plain": [
       "array([1, 2, 3])"
      ]
     },
     "execution_count": 36,
     "metadata": {},
     "output_type": "execute_result"
    }
   ],
   "source": [
    "tuple"
   ]
  },
  {
   "cell_type": "code",
   "execution_count": 38,
   "id": "8ec46e7a",
   "metadata": {},
   "outputs": [
    {
     "data": {
      "text/plain": [
       "dtype('int32')"
      ]
     },
     "execution_count": 38,
     "metadata": {},
     "output_type": "execute_result"
    }
   ],
   "source": [
    "tuple.dtype"
   ]
  },
  {
   "cell_type": "code",
   "execution_count": 39,
   "id": "391858d6",
   "metadata": {},
   "outputs": [],
   "source": [
    "zeroarray=np.zeros((3,4))"
   ]
  },
  {
   "cell_type": "code",
   "execution_count": 40,
   "id": "c2c9de2f",
   "metadata": {},
   "outputs": [
    {
     "data": {
      "text/plain": [
       "array([[0., 0., 0., 0.],\n",
       "       [0., 0., 0., 0.],\n",
       "       [0., 0., 0., 0.]])"
      ]
     },
     "execution_count": 40,
     "metadata": {},
     "output_type": "execute_result"
    }
   ],
   "source": [
    "zeroarray"
   ]
  },
  {
   "cell_type": "code",
   "execution_count": 46,
   "id": "14f4ac02",
   "metadata": {},
   "outputs": [],
   "source": [
    "complexfull=np.full((3,3),6,dtype='complex')"
   ]
  },
  {
   "cell_type": "code",
   "execution_count": 47,
   "id": "82e72128",
   "metadata": {},
   "outputs": [
    {
     "data": {
      "text/plain": [
       "array([[6.+0.j, 6.+0.j, 6.+0.j],\n",
       "       [6.+0.j, 6.+0.j, 6.+0.j],\n",
       "       [6.+0.j, 6.+0.j, 6.+0.j]])"
      ]
     },
     "execution_count": 47,
     "metadata": {},
     "output_type": "execute_result"
    }
   ],
   "source": [
    "complexfull"
   ]
  },
  {
   "cell_type": "code",
   "execution_count": 53,
   "id": "c80399bb",
   "metadata": {},
   "outputs": [],
   "source": [
    "randomnumber=np.random.random((2,2))"
   ]
  },
  {
   "cell_type": "code",
   "execution_count": 54,
   "id": "7cc7dc24",
   "metadata": {},
   "outputs": [
    {
     "data": {
      "text/plain": [
       "array([[0.80022739, 0.80362879],\n",
       "       [0.07601313, 0.70979097]])"
      ]
     },
     "execution_count": 54,
     "metadata": {},
     "output_type": "execute_result"
    }
   ],
   "source": [
    "randomnumber"
   ]
  },
  {
   "cell_type": "code",
   "execution_count": 57,
   "id": "2d529972",
   "metadata": {},
   "outputs": [],
   "source": [
    "arrangenumbers=np.arange(1,50,5)"
   ]
  },
  {
   "cell_type": "code",
   "execution_count": 59,
   "id": "888917c2",
   "metadata": {},
   "outputs": [
    {
     "data": {
      "text/plain": [
       "array([ 1,  6, 11, 16, 21, 26, 31, 36, 41, 46])"
      ]
     },
     "execution_count": 59,
     "metadata": {},
     "output_type": "execute_result"
    }
   ],
   "source": [
    "arrangenumbers"
   ]
  },
  {
   "cell_type": "code",
   "execution_count": null,
   "id": "6cb019fd",
   "metadata": {},
   "outputs": [],
   "source": []
  }
 ],
 "metadata": {
  "kernelspec": {
   "display_name": "Python 3 (ipykernel)",
   "language": "python",
   "name": "python3"
  },
  "language_info": {
   "codemirror_mode": {
    "name": "ipython",
    "version": 3
   },
   "file_extension": ".py",
   "mimetype": "text/x-python",
   "name": "python",
   "nbconvert_exporter": "python",
   "pygments_lexer": "ipython3",
   "version": "3.9.7"
  }
 },
 "nbformat": 4,
 "nbformat_minor": 5
}
