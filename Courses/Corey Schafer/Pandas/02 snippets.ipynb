{
 "cells": [
  {
   "cell_type": "code",
   "execution_count": 2,
   "id": "27749238",
   "metadata": {},
   "outputs": [],
   "source": [
    "person={\n",
    "    'first':'sajal',\n",
    "    'last':'tiwari',\n",
    "    'email':'sajal@tiwari.com'\n",
    "}"
   ]
  },
  {
   "cell_type": "code",
   "execution_count": 3,
   "id": "f5d14a12",
   "metadata": {},
   "outputs": [],
   "source": [
    "people={\n",
    "    'first':['ram'],\n",
    "    'last':['prasad'],\n",
    "    'email':['ram@prasad.com']\n",
    "}"
   ]
  },
  {
   "cell_type": "code",
   "execution_count": 7,
   "id": "a37e95df",
   "metadata": {},
   "outputs": [],
   "source": [
    "god={\n",
    "    'first':['vishnu','shiva','brahma'],\n",
    "    'last':['narayan','mahadev','rachyeta'],\n",
    "    'email':['vishnu@narayan.com','shiva@mahadev.com','brahma@rachyeta.com']\n",
    "}"
   ]
  },
  {
   "cell_type": "code",
   "execution_count": 8,
   "id": "1790e304",
   "metadata": {},
   "outputs": [
    {
     "data": {
      "text/plain": [
       "{'first': ['vishnu', 'shiva', 'brahma'],\n",
       " 'last': ['narayan', 'mahadev', 'rachyeta'],\n",
       " 'email': ['vishnu@narayan.com', 'shiva@mahadev.com', 'brahma@rachyeta.com']}"
      ]
     },
     "execution_count": 8,
     "metadata": {},
     "output_type": "execute_result"
    }
   ],
   "source": [
    "god"
   ]
  },
  {
   "cell_type": "code",
   "execution_count": 9,
   "id": "c5768a6a",
   "metadata": {},
   "outputs": [
    {
     "data": {
      "text/plain": [
       "['vishnu@narayan.com', 'shiva@mahadev.com', 'brahma@rachyeta.com']"
      ]
     },
     "execution_count": 9,
     "metadata": {},
     "output_type": "execute_result"
    }
   ],
   "source": [
    "god['email']"
   ]
  },
  {
   "cell_type": "code",
   "execution_count": 10,
   "id": "86c30162",
   "metadata": {},
   "outputs": [],
   "source": [
    "import pandas as pd"
   ]
  },
  {
   "cell_type": "code",
   "execution_count": 15,
   "id": "5876f51b",
   "metadata": {},
   "outputs": [
    {
     "data": {
      "text/html": [
       "<div>\n",
       "<style scoped>\n",
       "    .dataframe tbody tr th:only-of-type {\n",
       "        vertical-align: middle;\n",
       "    }\n",
       "\n",
       "    .dataframe tbody tr th {\n",
       "        vertical-align: top;\n",
       "    }\n",
       "\n",
       "    .dataframe thead th {\n",
       "        text-align: right;\n",
       "    }\n",
       "</style>\n",
       "<table border=\"1\" class=\"dataframe\">\n",
       "  <thead>\n",
       "    <tr style=\"text-align: right;\">\n",
       "      <th></th>\n",
       "      <th>first</th>\n",
       "      <th>last</th>\n",
       "      <th>email</th>\n",
       "    </tr>\n",
       "  </thead>\n",
       "  <tbody>\n",
       "    <tr>\n",
       "      <th>0</th>\n",
       "      <td>ram</td>\n",
       "      <td>prasad</td>\n",
       "      <td>ram@prasad.com</td>\n",
       "    </tr>\n",
       "  </tbody>\n",
       "</table>\n",
       "</div>"
      ],
      "text/plain": [
       "  first    last           email\n",
       "0   ram  prasad  ram@prasad.com"
      ]
     },
     "execution_count": 15,
     "metadata": {},
     "output_type": "execute_result"
    }
   ],
   "source": [
    "df_people=pd.DataFrame(people)\n",
    "df_people"
   ]
  },
  {
   "cell_type": "code",
   "execution_count": 30,
   "id": "d0139cdd",
   "metadata": {},
   "outputs": [
    {
     "data": {
      "text/html": [
       "<div>\n",
       "<style scoped>\n",
       "    .dataframe tbody tr th:only-of-type {\n",
       "        vertical-align: middle;\n",
       "    }\n",
       "\n",
       "    .dataframe tbody tr th {\n",
       "        vertical-align: top;\n",
       "    }\n",
       "\n",
       "    .dataframe thead th {\n",
       "        text-align: right;\n",
       "    }\n",
       "</style>\n",
       "<table border=\"1\" class=\"dataframe\">\n",
       "  <thead>\n",
       "    <tr style=\"text-align: right;\">\n",
       "      <th></th>\n",
       "      <th>first</th>\n",
       "      <th>last</th>\n",
       "      <th>email</th>\n",
       "    </tr>\n",
       "  </thead>\n",
       "  <tbody>\n",
       "    <tr>\n",
       "      <th>0</th>\n",
       "      <td>vishnu</td>\n",
       "      <td>narayan</td>\n",
       "      <td>vishnu@narayan.com</td>\n",
       "    </tr>\n",
       "    <tr>\n",
       "      <th>1</th>\n",
       "      <td>shiva</td>\n",
       "      <td>mahadev</td>\n",
       "      <td>shiva@mahadev.com</td>\n",
       "    </tr>\n",
       "    <tr>\n",
       "      <th>2</th>\n",
       "      <td>brahma</td>\n",
       "      <td>rachyeta</td>\n",
       "      <td>brahma@rachyeta.com</td>\n",
       "    </tr>\n",
       "  </tbody>\n",
       "</table>\n",
       "</div>"
      ],
      "text/plain": [
       "    first      last                email\n",
       "0  vishnu   narayan   vishnu@narayan.com\n",
       "1   shiva   mahadev    shiva@mahadev.com\n",
       "2  brahma  rachyeta  brahma@rachyeta.com"
      ]
     },
     "execution_count": 30,
     "metadata": {},
     "output_type": "execute_result"
    }
   ],
   "source": [
    "# create dataframe\n",
    "df_god=pd.DataFrame(god)\n",
    "df_god"
   ]
  },
  {
   "cell_type": "code",
   "execution_count": 31,
   "id": "42912c38",
   "metadata": {},
   "outputs": [
    {
     "data": {
      "text/plain": [
       "pandas.core.frame.DataFrame"
      ]
     },
     "execution_count": 31,
     "metadata": {},
     "output_type": "execute_result"
    }
   ],
   "source": [
    "# type of dataframe\n",
    "type(df_god)"
   ]
  },
  {
   "cell_type": "code",
   "execution_count": 32,
   "id": "ed6021bd",
   "metadata": {},
   "outputs": [
    {
     "data": {
      "text/plain": [
       "0     vishnu@narayan.com\n",
       "1      shiva@mahadev.com\n",
       "2    brahma@rachyeta.com\n",
       "Name: email, dtype: object"
      ]
     },
     "execution_count": 32,
     "metadata": {},
     "output_type": "execute_result"
    }
   ],
   "source": [
    "# show one columns in dataframe\n",
    "df_god['email']"
   ]
  },
  {
   "cell_type": "code",
   "execution_count": 33,
   "id": "0c8eab35",
   "metadata": {},
   "outputs": [
    {
     "data": {
      "text/plain": [
       "pandas.core.series.Series"
      ]
     },
     "execution_count": 33,
     "metadata": {},
     "output_type": "execute_result"
    }
   ],
   "source": [
    "# type of columns --> series\n",
    "type(df_god['email'])"
   ]
  },
  {
   "cell_type": "code",
   "execution_count": 34,
   "id": "15d7582e",
   "metadata": {},
   "outputs": [
    {
     "data": {
      "text/plain": [
       "0     vishnu@narayan.com\n",
       "1      shiva@mahadev.com\n",
       "2    brahma@rachyeta.com\n",
       "Name: email, dtype: object"
      ]
     },
     "execution_count": 34,
     "metadata": {},
     "output_type": "execute_result"
    }
   ],
   "source": [
    "# columsn field name as attribute of dataframe\n",
    "df_god.email"
   ]
  },
  {
   "cell_type": "code",
   "execution_count": 35,
   "id": "79a6e646",
   "metadata": {},
   "outputs": [
    {
     "data": {
      "text/plain": [
       "<bound method DataFrame.count of     first      last                email\n",
       "0  vishnu   narayan   vishnu@narayan.com\n",
       "1   shiva   mahadev    shiva@mahadev.com\n",
       "2  brahma  rachyeta  brahma@rachyeta.com>"
      ]
     },
     "execution_count": 35,
     "metadata": {},
     "output_type": "execute_result"
    }
   ],
   "source": [
    "# count in dataframe\n",
    "df_god.count"
   ]
  },
  {
   "cell_type": "code",
   "execution_count": 36,
   "id": "4433bebd",
   "metadata": {},
   "outputs": [
    {
     "data": {
      "text/plain": [
       "Index(['first', 'last', 'email'], dtype='object')"
      ]
     },
     "execution_count": 36,
     "metadata": {},
     "output_type": "execute_result"
    }
   ],
   "source": [
    "# columns in dataframe\n",
    "df_god.columns"
   ]
  },
  {
   "cell_type": "code",
   "execution_count": 37,
   "id": "c488ab2c",
   "metadata": {},
   "outputs": [
    {
     "data": {
      "text/plain": [
       "first                vishnu\n",
       "last                narayan\n",
       "email    vishnu@narayan.com\n",
       "Name: 0, dtype: object"
      ]
     },
     "execution_count": 37,
     "metadata": {},
     "output_type": "execute_result"
    }
   ],
   "source": [
    "# ṣhow row with index position\n",
    "df_god.iloc[0]"
   ]
  },
  {
   "cell_type": "code",
   "execution_count": 46,
   "id": "627ae710",
   "metadata": {},
   "outputs": [
    {
     "data": {
      "text/html": [
       "<div>\n",
       "<style scoped>\n",
       "    .dataframe tbody tr th:only-of-type {\n",
       "        vertical-align: middle;\n",
       "    }\n",
       "\n",
       "    .dataframe tbody tr th {\n",
       "        vertical-align: top;\n",
       "    }\n",
       "\n",
       "    .dataframe thead th {\n",
       "        text-align: right;\n",
       "    }\n",
       "</style>\n",
       "<table border=\"1\" class=\"dataframe\">\n",
       "  <thead>\n",
       "    <tr style=\"text-align: right;\">\n",
       "      <th></th>\n",
       "      <th>first</th>\n",
       "      <th>email</th>\n",
       "    </tr>\n",
       "  </thead>\n",
       "  <tbody>\n",
       "    <tr>\n",
       "      <th>0</th>\n",
       "      <td>vishnu</td>\n",
       "      <td>vishnu@narayan.com</td>\n",
       "    </tr>\n",
       "    <tr>\n",
       "      <th>2</th>\n",
       "      <td>brahma</td>\n",
       "      <td>brahma@rachyeta.com</td>\n",
       "    </tr>\n",
       "  </tbody>\n",
       "</table>\n",
       "</div>"
      ],
      "text/plain": [
       "    first                email\n",
       "0  vishnu   vishnu@narayan.com\n",
       "2  brahma  brahma@rachyeta.com"
      ]
     },
     "execution_count": 46,
     "metadata": {},
     "output_type": "execute_result"
    }
   ],
   "source": [
    "# show rows index with column index\n",
    "df_god.iloc[[0,2],[0,2]]"
   ]
  },
  {
   "cell_type": "code",
   "execution_count": 48,
   "id": "57266541",
   "metadata": {},
   "outputs": [
    {
     "data": {
      "text/html": [
       "<div>\n",
       "<style scoped>\n",
       "    .dataframe tbody tr th:only-of-type {\n",
       "        vertical-align: middle;\n",
       "    }\n",
       "\n",
       "    .dataframe tbody tr th {\n",
       "        vertical-align: top;\n",
       "    }\n",
       "\n",
       "    .dataframe thead th {\n",
       "        text-align: right;\n",
       "    }\n",
       "</style>\n",
       "<table border=\"1\" class=\"dataframe\">\n",
       "  <thead>\n",
       "    <tr style=\"text-align: right;\">\n",
       "      <th></th>\n",
       "      <th>first</th>\n",
       "      <th>email</th>\n",
       "    </tr>\n",
       "  </thead>\n",
       "  <tbody>\n",
       "    <tr>\n",
       "      <th>0</th>\n",
       "      <td>vishnu</td>\n",
       "      <td>vishnu@narayan.com</td>\n",
       "    </tr>\n",
       "    <tr>\n",
       "      <th>2</th>\n",
       "      <td>brahma</td>\n",
       "      <td>brahma@rachyeta.com</td>\n",
       "    </tr>\n",
       "  </tbody>\n",
       "</table>\n",
       "</div>"
      ],
      "text/plain": [
       "    first                email\n",
       "0  vishnu   vishnu@narayan.com\n",
       "2  brahma  brahma@rachyeta.com"
      ]
     },
     "execution_count": 48,
     "metadata": {},
     "output_type": "execute_result"
    }
   ],
   "source": [
    "# show rows index and column with field name\n",
    "df_god.loc[[0,2],['first','email']]"
   ]
  },
  {
   "cell_type": "code",
   "execution_count": 49,
   "id": "446437b8",
   "metadata": {},
   "outputs": [
    {
     "data": {
      "text/plain": [
       "(3, 3)"
      ]
     },
     "execution_count": 49,
     "metadata": {},
     "output_type": "execute_result"
    }
   ],
   "source": [
    "df_god.shape"
   ]
  },
  {
   "cell_type": "code",
   "execution_count": null,
   "id": "32895d63",
   "metadata": {},
   "outputs": [],
   "source": []
  }
 ],
 "metadata": {
  "kernelspec": {
   "display_name": "Python 3 (ipykernel)",
   "language": "python",
   "name": "python3"
  },
  "language_info": {
   "codemirror_mode": {
    "name": "ipython",
    "version": 3
   },
   "file_extension": ".py",
   "mimetype": "text/x-python",
   "name": "python",
   "nbconvert_exporter": "python",
   "pygments_lexer": "ipython3",
   "version": "3.9.12"
  }
 },
 "nbformat": 4,
 "nbformat_minor": 5
}
