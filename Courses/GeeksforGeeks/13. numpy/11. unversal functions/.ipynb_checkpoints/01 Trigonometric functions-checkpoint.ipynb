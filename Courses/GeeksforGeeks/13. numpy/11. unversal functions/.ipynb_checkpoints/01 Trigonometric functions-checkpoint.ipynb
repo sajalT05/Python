{
 "cells": [
  {
   "cell_type": "code",
   "execution_count": 1,
   "id": "315a01f5",
   "metadata": {},
   "outputs": [],
   "source": [
    "import numpy as np"
   ]
  },
  {
   "cell_type": "code",
   "execution_count": 5,
   "id": "29373cdf",
   "metadata": {},
   "outputs": [
    {
     "data": {
      "text/plain": [
       "array([  0,  30,  45,  60,  90, 180])"
      ]
     },
     "execution_count": 5,
     "metadata": {},
     "output_type": "execute_result"
    }
   ],
   "source": [
    "# numpy array of anges\n",
    "angles=np.array([0,30,45,60,90,180])\n",
    "angles"
   ]
  },
  {
   "cell_type": "code",
   "execution_count": 6,
   "id": "1e2831a2",
   "metadata": {},
   "outputs": [
    {
     "data": {
      "text/plain": [
       "array([0.        , 0.52359878, 0.78539816, 1.04719755, 1.57079633,\n",
       "       3.14159265])"
      ]
     },
     "execution_count": 6,
     "metadata": {},
     "output_type": "execute_result"
    }
   ],
   "source": [
    "# convert degree into randians\n",
    "radians=np.deg2rad(angles)\n",
    "radians"
   ]
  },
  {
   "cell_type": "code",
   "execution_count": 13,
   "id": "b9adb2d6",
   "metadata": {},
   "outputs": [],
   "source": [
    "# trigonometric"
   ]
  },
  {
   "cell_type": "code",
   "execution_count": 14,
   "id": "dc77ddd0",
   "metadata": {},
   "outputs": [
    {
     "data": {
      "text/plain": [
       "array([0.00000000e+00, 5.00000000e-01, 7.07106781e-01, 8.66025404e-01,\n",
       "       1.00000000e+00, 1.22464680e-16])"
      ]
     },
     "execution_count": 14,
     "metadata": {},
     "output_type": "execute_result"
    }
   ],
   "source": [
    "# sines\n",
    "sine=np.sin(radians)\n",
    "sine"
   ]
  },
  {
   "cell_type": "code",
   "execution_count": null,
   "id": "ecf4139f",
   "metadata": {
    "collapsed": true
   },
   "outputs": [],
   "source": []
  }
 ],
 "metadata": {
  "kernelspec": {
   "display_name": "Python 3 (ipykernel)",
   "language": "python",
   "name": "python3"
  },
  "language_info": {
   "codemirror_mode": {
    "name": "ipython",
    "version": 3
   },
   "file_extension": ".py",
   "mimetype": "text/x-python",
   "name": "python",
   "nbconvert_exporter": "python",
   "pygments_lexer": "ipython3",
   "version": "3.9.12"
  }
 },
 "nbformat": 4,
 "nbformat_minor": 5
}
