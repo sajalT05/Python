{
 "cells": [
  {
   "cell_type": "code",
   "execution_count": 37,
   "id": "3d77eb71",
   "metadata": {},
   "outputs": [
    {
     "data": {
      "text/plain": [
       "[1, 'name', 12.3, [1, 54, 6], '5']"
      ]
     },
     "execution_count": 37,
     "metadata": {},
     "output_type": "execute_result"
    }
   ],
   "source": [
    "list=[1,'name',12.30,[1,54,6],'5']\n",
    "list"
   ]
  },
  {
   "cell_type": "code",
   "execution_count": 38,
   "id": "4a2c0756",
   "metadata": {},
   "outputs": [
    {
     "data": {
      "text/plain": [
       "'name'"
      ]
     },
     "execution_count": 38,
     "metadata": {},
     "output_type": "execute_result"
    }
   ],
   "source": [
    "# get element\n",
    "# index\n",
    "list[1]"
   ]
  },
  {
   "cell_type": "code",
   "execution_count": 39,
   "id": "0cd22f29",
   "metadata": {},
   "outputs": [],
   "source": [
    "# values\n",
    "numberlist=[1,5,8,23,0.23]"
   ]
  },
  {
   "cell_type": "code",
   "execution_count": 40,
   "id": "55a1bccc",
   "metadata": {},
   "outputs": [
    {
     "data": {
      "text/plain": [
       "23"
      ]
     },
     "execution_count": 40,
     "metadata": {},
     "output_type": "execute_result"
    }
   ],
   "source": [
    "# maximum\n",
    "max(numberlist)"
   ]
  },
  {
   "cell_type": "code",
   "execution_count": 41,
   "id": "81f4d2d6",
   "metadata": {},
   "outputs": [
    {
     "data": {
      "text/plain": [
       "0.23"
      ]
     },
     "execution_count": 41,
     "metadata": {},
     "output_type": "execute_result"
    }
   ],
   "source": [
    "# minimum\n",
    "min(numberlist)"
   ]
  },
  {
   "cell_type": "code",
   "execution_count": 42,
   "id": "27c783f0",
   "metadata": {},
   "outputs": [],
   "source": [
    "# add elements"
   ]
  },
  {
   "cell_type": "code",
   "execution_count": 43,
   "id": "9cbf812f",
   "metadata": {},
   "outputs": [
    {
     "data": {
      "text/plain": [
       "[1, 'name', 12.3, [1, 54, 6], '5', 5]"
      ]
     },
     "execution_count": 43,
     "metadata": {},
     "output_type": "execute_result"
    }
   ],
   "source": [
    "# append\n",
    "list.append(6)\n",
    "list"
   ]
  },
  {
   "cell_type": "code",
   "execution_count": 47,
   "id": "f309d7c2",
   "metadata": {},
   "outputs": [
    {
     "data": {
      "text/plain": [
       "[8, 1, 'name', 12.3, 8, 8, [1, 54, 6], '5', 8, 5]"
      ]
     },
     "execution_count": 47,
     "metadata": {},
     "output_type": "execute_result"
    }
   ],
   "source": [
    "# insert\n",
    "# .insert(position,value)\n",
    "list.insert(0,8)\n",
    "list"
   ]
  },
  {
   "cell_type": "code",
   "execution_count": 62,
   "id": "1e0cf144",
   "metadata": {},
   "outputs": [
    {
     "data": {
      "text/plain": [
       "[8, 1, 'name', 12.3, 8, 8, [1, 54, 6], '5', 8, 5, 'bb', 'aa', 'bb']"
      ]
     },
     "execution_count": 62,
     "metadata": {},
     "output_type": "execute_result"
    }
   ],
   "source": [
    "# extend\n",
    "# .extend([value])\n",
    "list.extend(['aa','bb'])\n",
    "list"
   ]
  },
  {
   "cell_type": "code",
   "execution_count": 63,
   "id": "d38836ae",
   "metadata": {},
   "outputs": [
    {
     "data": {
      "text/plain": [
       "12.3"
      ]
     },
     "execution_count": 63,
     "metadata": {},
     "output_type": "execute_result"
    }
   ],
   "source": [
    "# access elements\n",
    "list[3]"
   ]
  },
  {
   "cell_type": "code",
   "execution_count": 64,
   "id": "52b024d8",
   "metadata": {},
   "outputs": [],
   "source": [
    "# slicing"
   ]
  },
  {
   "cell_type": "code",
   "execution_count": 65,
   "id": "eecb2420",
   "metadata": {},
   "outputs": [
    {
     "data": {
      "text/plain": [
       "[1, 12.3]"
      ]
     },
     "execution_count": 65,
     "metadata": {},
     "output_type": "execute_result"
    }
   ],
   "source": [
    "# positive slicing\n",
    "list[1:5:2]"
   ]
  },
  {
   "cell_type": "code",
   "execution_count": 66,
   "id": "00faaa65",
   "metadata": {},
   "outputs": [
    {
     "data": {
      "text/plain": [
       "['5', 5, 'aa']"
      ]
     },
     "execution_count": 66,
     "metadata": {},
     "output_type": "execute_result"
    }
   ],
   "source": [
    "# negative slicing\n",
    "list[-6:-1:2]"
   ]
  },
  {
   "cell_type": "code",
   "execution_count": 67,
   "id": "35c16a8b",
   "metadata": {},
   "outputs": [
    {
     "data": {
      "text/plain": [
       "['bb', 'aa', 'bb', 5, 8, '5', [1, 54, 6], 8, 8, 12.3, 'name', 1, 8]"
      ]
     },
     "execution_count": 67,
     "metadata": {},
     "output_type": "execute_result"
    }
   ],
   "source": [
    "# inversion\n",
    "list[::-1]"
   ]
  },
  {
   "cell_type": "code",
   "execution_count": 68,
   "id": "028efabb",
   "metadata": {},
   "outputs": [],
   "source": [
    "# remove elements"
   ]
  },
  {
   "cell_type": "code",
   "execution_count": 69,
   "id": "6c8ae2f1",
   "metadata": {},
   "outputs": [
    {
     "data": {
      "text/plain": [
       "[8, 1, 'name', 12.3, 8, 8, [1, 54, 6], '5', 8, 5, 'bb', 'bb']"
      ]
     },
     "execution_count": 69,
     "metadata": {},
     "output_type": "execute_result"
    }
   ],
   "source": [
    "# remove\n",
    "# .remove(value)\n",
    "list.remove('aa')\n",
    "list"
   ]
  },
  {
   "cell_type": "code",
   "execution_count": 72,
   "id": "06c78894",
   "metadata": {},
   "outputs": [
    {
     "data": {
      "text/plain": [
       "5"
      ]
     },
     "execution_count": 72,
     "metadata": {},
     "output_type": "execute_result"
    }
   ],
   "source": [
    "# pop\n",
    "# .pop() last element\n",
    "list.pop()"
   ]
  },
  {
   "cell_type": "code",
   "execution_count": 73,
   "id": "bf71e003",
   "metadata": {},
   "outputs": [
    {
     "data": {
      "text/plain": [
       "[8, 1, 'name', 12.3, 8, 8, [1, 54, 6], '5', 8]"
      ]
     },
     "execution_count": 73,
     "metadata": {},
     "output_type": "execute_result"
    }
   ],
   "source": [
    "list"
   ]
  },
  {
   "cell_type": "code",
   "execution_count": 74,
   "id": "c6c7bee6",
   "metadata": {},
   "outputs": [
    {
     "data": {
      "text/plain": [
       "'name'"
      ]
     },
     "execution_count": 74,
     "metadata": {},
     "output_type": "execute_result"
    }
   ],
   "source": [
    "# .pop(index) last element\n",
    "list.pop(2)"
   ]
  },
  {
   "cell_type": "code",
   "execution_count": 75,
   "id": "bd19db22",
   "metadata": {},
   "outputs": [
    {
     "data": {
      "text/plain": [
       "[8, 1, 12.3, 8, 8, [1, 54, 6], '5', 8]"
      ]
     },
     "execution_count": 75,
     "metadata": {},
     "output_type": "execute_result"
    }
   ],
   "source": [
    "list"
   ]
  },
  {
   "cell_type": "code",
   "execution_count": null,
   "id": "9d8adf32",
   "metadata": {},
   "outputs": [],
   "source": []
  }
 ],
 "metadata": {
  "kernelspec": {
   "display_name": "Python 3 (ipykernel)",
   "language": "python",
   "name": "python3"
  },
  "language_info": {
   "codemirror_mode": {
    "name": "ipython",
    "version": 3
   },
   "file_extension": ".py",
   "mimetype": "text/x-python",
   "name": "python",
   "nbconvert_exporter": "python",
   "pygments_lexer": "ipython3",
   "version": "3.9.12"
  }
 },
 "nbformat": 4,
 "nbformat_minor": 5
}
