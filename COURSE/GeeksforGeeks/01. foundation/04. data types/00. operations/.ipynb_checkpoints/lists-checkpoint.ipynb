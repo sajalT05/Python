{
 "cells": [
  {
   "cell_type": "code",
   "execution_count": 37,
   "id": "dc72ce64",
   "metadata": {},
   "outputs": [
    {
     "data": {
      "text/plain": [
       "[1, 'name', 12.3, [1, 54, 6], '5']"
      ]
     },
     "execution_count": 37,
     "metadata": {},
     "output_type": "execute_result"
    }
   ],
   "source": [
    "list=[1,'name',12.30,[1,54,6],'5']\n",
    "list"
   ]
  },
  {
   "cell_type": "code",
   "execution_count": 38,
   "id": "01403815",
   "metadata": {},
   "outputs": [
    {
     "data": {
      "text/plain": [
       "'name'"
      ]
     },
     "execution_count": 38,
     "metadata": {},
     "output_type": "execute_result"
    }
   ],
   "source": [
    "# get element\n",
    "# index\n",
    "list[1]"
   ]
  },
  {
   "cell_type": "code",
   "execution_count": 39,
   "id": "9b5cf296",
   "metadata": {},
   "outputs": [],
   "source": [
    "# values\n",
    "numberlist=[1,5,8,23,0.23]"
   ]
  },
  {
   "cell_type": "code",
   "execution_count": 40,
   "id": "aa496f58",
   "metadata": {},
   "outputs": [
    {
     "data": {
      "text/plain": [
       "23"
      ]
     },
     "execution_count": 40,
     "metadata": {},
     "output_type": "execute_result"
    }
   ],
   "source": [
    "# maximum\n",
    "max(numberlist)"
   ]
  },
  {
   "cell_type": "code",
   "execution_count": 41,
   "id": "c2367385",
   "metadata": {},
   "outputs": [
    {
     "data": {
      "text/plain": [
       "0.23"
      ]
     },
     "execution_count": 41,
     "metadata": {},
     "output_type": "execute_result"
    }
   ],
   "source": [
    "# minimum\n",
    "min(numberlist)"
   ]
  },
  {
   "cell_type": "code",
   "execution_count": 42,
   "id": "5675010a",
   "metadata": {},
   "outputs": [],
   "source": [
    "# add elements"
   ]
  },
  {
   "cell_type": "code",
   "execution_count": 43,
   "id": "a495d845",
   "metadata": {},
   "outputs": [
    {
     "data": {
      "text/plain": [
       "[1, 'name', 12.3, [1, 54, 6], '5', 5]"
      ]
     },
     "execution_count": 43,
     "metadata": {},
     "output_type": "execute_result"
    }
   ],
   "source": [
    "# append\n",
    "list.append(6)\n",
    "list"
   ]
  },
  {
   "cell_type": "code",
   "execution_count": 47,
   "id": "fe7cc7e0",
   "metadata": {},
   "outputs": [
    {
     "data": {
      "text/plain": [
       "[8, 1, 'name', 12.3, 8, 8, [1, 54, 6], '5', 8, 5]"
      ]
     },
     "execution_count": 47,
     "metadata": {},
     "output_type": "execute_result"
    }
   ],
   "source": [
    "# insert\n",
    "# insert(position,value)\n",
    "list.insert(0,8)\n",
    "list"
   ]
  },
  {
   "cell_type": "code",
   "execution_count": null,
   "id": "42e545e5",
   "metadata": {},
   "outputs": [],
   "source": []
  },
  {
   "cell_type": "code",
   "execution_count": null,
   "id": "9bd78174",
   "metadata": {},
   "outputs": [],
   "source": []
  }
 ],
 "metadata": {
  "kernelspec": {
   "display_name": "Python 3 (ipykernel)",
   "language": "python",
   "name": "python3"
  },
  "language_info": {
   "codemirror_mode": {
    "name": "ipython",
    "version": 3
   },
   "file_extension": ".py",
   "mimetype": "text/x-python",
   "name": "python",
   "nbconvert_exporter": "python",
   "pygments_lexer": "ipython3",
   "version": "3.9.12"
  }
 },
 "nbformat": 4,
 "nbformat_minor": 5
}
