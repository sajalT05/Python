{
 "cells": [
  {
   "cell_type": "code",
   "execution_count": 8,
   "id": "54020b68",
   "metadata": {},
   "outputs": [
    {
     "data": {
      "text/plain": [
       "{'string': 'stringname',\n",
       " 'integer': 5,\n",
       " 'float': 2.33,\n",
       " 'list': [2, 5, 8],\n",
       " 'tuple': (1, 5, 8),\n",
       " 'set': {2, 5, 8},\n",
       " 'dictionary': {'a': 1, 'b': 2}}"
      ]
     },
     "execution_count": 8,
     "metadata": {},
     "output_type": "execute_result"
    }
   ],
   "source": [
    "dict={\n",
    "    'string':'stringname',\n",
    "    'integer':5,\n",
    "    'float':2.33,\n",
    "    'list':[2,5,8],\n",
    "    'tuple':(1,5,8),\n",
    "    'set':{2,5,8},\n",
    "    \"dictionary\":{'a':1,'b':2}    \n",
    "}\n",
    "dict"
   ]
  },
  {
   "cell_type": "code",
   "execution_count": 11,
   "id": "70ff920f",
   "metadata": {},
   "outputs": [
    {
     "data": {
      "text/plain": [
       "{'string': 'stringname',\n",
       " 'integer': 5,\n",
       " 'float': 2.33,\n",
       " 'list': [2, 5, 8],\n",
       " 'tuple': (1, 5, 8),\n",
       " 'set': {2, 5, 8},\n",
       " 'dictionary': {'a': 1, 'b': 2},\n",
       " 7: 5,\n",
       " 'new element': 5}"
      ]
     },
     "execution_count": 11,
     "metadata": {},
     "output_type": "execute_result"
    }
   ],
   "source": [
    "# add elements\n",
    "dict[\"new element\"]=5\n",
    "dict"
   ]
  },
  {
   "cell_type": "code",
   "execution_count": 12,
   "id": "49939e44",
   "metadata": {},
   "outputs": [],
   "source": [
    "# access elements"
   ]
  },
  {
   "cell_type": "code",
   "execution_count": 13,
   "id": "791bbd92",
   "metadata": {},
   "outputs": [
    {
     "data": {
      "text/plain": [
       "{2, 5, 8}"
      ]
     },
     "execution_count": 13,
     "metadata": {},
     "output_type": "execute_result"
    }
   ],
   "source": [
    "# dict[key]\n",
    "dict['set']"
   ]
  },
  {
   "cell_type": "code",
   "execution_count": 14,
   "id": "14ce9cb3",
   "metadata": {},
   "outputs": [
    {
     "data": {
      "text/plain": [
       "[2, 5, 8]"
      ]
     },
     "execution_count": 14,
     "metadata": {},
     "output_type": "execute_result"
    }
   ],
   "source": [
    "# dict.get(key)\n",
    "dict.get('list')"
   ]
  },
  {
   "cell_type": "code",
   "execution_count": 16,
   "id": "d2ba50d0",
   "metadata": {},
   "outputs": [
    {
     "data": {
      "text/plain": [
       "dict_items([('string', 'stringname'), ('integer', 5), ('float', 2.33), ('list', [2, 5, 8]), ('tuple', (1, 5, 8)), ('set', {8, 2, 5}), ('dictionary', {'a': 1, 'b': 2}), (7, 5), ('new element', 5)])"
      ]
     },
     "execution_count": 16,
     "metadata": {},
     "output_type": "execute_result"
    }
   ],
   "source": [
    "# .items() all items as tuples in list\n",
    "dict.items()"
   ]
  },
  {
   "cell_type": "code",
   "execution_count": 18,
   "id": "7dfa6a5f",
   "metadata": {},
   "outputs": [
    {
     "data": {
      "text/plain": [
       "dict_keys(['string', 'integer', 'float', 'list', 'tuple', 'set', 'dictionary', 7, 'new element'])"
      ]
     },
     "execution_count": 18,
     "metadata": {},
     "output_type": "execute_result"
    }
   ],
   "source": [
    "# .keys() as list of keys\n",
    "dict.keys()"
   ]
  },
  {
   "cell_type": "code",
   "execution_count": 19,
   "id": "5b58af51",
   "metadata": {},
   "outputs": [
    {
     "data": {
      "text/plain": [
       "dict_values(['stringname', 5, 2.33, [2, 5, 8], (1, 5, 8), {8, 2, 5}, {'a': 1, 'b': 2}, 5, 5])"
      ]
     },
     "execution_count": 19,
     "metadata": {},
     "output_type": "execute_result"
    }
   ],
   "source": [
    "# .values() as list of values\n",
    "dict.values()"
   ]
  },
  {
   "cell_type": "code",
   "execution_count": 24,
   "id": "67e002c4",
   "metadata": {},
   "outputs": [
    {
     "data": {
      "text/plain": [
       "{'string': 'stringname',\n",
       " 'integer': 5,\n",
       " 'float': 2.33,\n",
       " 'list': [2, 5, 8],\n",
       " 'tuple': (1, 5, 8),\n",
       " 'set': {2, 5, 8},\n",
       " 'dictionary': {'a': 1, 'b': 2},\n",
       " 7: 5,\n",
       " 'new element': 5,\n",
       " 'updated element': 5}"
      ]
     },
     "execution_count": 24,
     "metadata": {},
     "output_type": "execute_result"
    }
   ],
   "source": [
    "# update\n",
    "# .update({key:value})\n",
    "dict.update({\"updated element\":5})\n",
    "dict"
   ]
  },
  {
   "cell_type": "code",
   "execution_count": 26,
   "id": "52ae2756",
   "metadata": {},
   "outputs": [],
   "source": [
    "# remove"
   ]
  },
  {
   "cell_type": "code",
   "execution_count": 28,
   "id": "5ed04ab6",
   "metadata": {},
   "outputs": [
    {
     "data": {
      "text/plain": [
       "[2, 5, 8]"
      ]
     },
     "execution_count": 28,
     "metadata": {},
     "output_type": "execute_result"
    }
   ],
   "source": [
    "# pop\n",
    "# .pop(key)\n",
    "dict.pop('list')"
   ]
  },
  {
   "cell_type": "code",
   "execution_count": 29,
   "id": "2b1d8f90",
   "metadata": {},
   "outputs": [
    {
     "data": {
      "text/plain": [
       "{'string': 'stringname',\n",
       " 'integer': 5,\n",
       " 'float': 2.33,\n",
       " 'tuple': (1, 5, 8),\n",
       " 'set': {2, 5, 8},\n",
       " 'dictionary': {'a': 1, 'b': 2},\n",
       " 7: 5,\n",
       " 'new element': 5,\n",
       " 'updated element': 5}"
      ]
     },
     "execution_count": 29,
     "metadata": {},
     "output_type": "execute_result"
    }
   ],
   "source": [
    "dict"
   ]
  },
  {
   "cell_type": "code",
   "execution_count": 32,
   "id": "d6efbead",
   "metadata": {},
   "outputs": [
    {
     "data": {
      "text/plain": [
       "{'string': 'stringname',\n",
       " 'integer': 5,\n",
       " 'float': 2.33,\n",
       " 'tuple': (1, 5, 8),\n",
       " 'set': {2, 5, 8},\n",
       " 'dictionary': {'a': 1, 'b': 2},\n",
       " 7: 5,\n",
       " 'new element': 5,\n",
       " 'updated element': 5}"
      ]
     },
     "execution_count": 32,
     "metadata": {},
     "output_type": "execute_result"
    }
   ],
   "source": [
    "# popitem\n",
    "# dict.popitem() --> remove last element\n",
    "dict"
   ]
  },
  {
   "cell_type": "code",
   "execution_count": 31,
   "id": "694cc84c",
   "metadata": {},
   "outputs": [
    {
     "data": {
      "text/plain": [
       "{'string': 'stringname',\n",
       " 'integer': 5,\n",
       " 'float': 2.33,\n",
       " 'tuple': (1, 5, 8),\n",
       " 'set': {2, 5, 8},\n",
       " 'dictionary': {'a': 1, 'b': 2},\n",
       " 7: 5,\n",
       " 'new element': 5,\n",
       " 'updated element': 5}"
      ]
     },
     "execution_count": 31,
     "metadata": {},
     "output_type": "execute_result"
    }
   ],
   "source": [
    "dict"
   ]
  },
  {
   "cell_type": "code",
   "execution_count": null,
   "id": "68839eab",
   "metadata": {},
   "outputs": [],
   "source": []
  }
 ],
 "metadata": {
  "kernelspec": {
   "display_name": "Python 3 (ipykernel)",
   "language": "python",
   "name": "python3"
  },
  "language_info": {
   "codemirror_mode": {
    "name": "ipython",
    "version": 3
   },
   "file_extension": ".py",
   "mimetype": "text/x-python",
   "name": "python",
   "nbconvert_exporter": "python",
   "pygments_lexer": "ipython3",
   "version": "3.9.12"
  }
 },
 "nbformat": 4,
 "nbformat_minor": 5
}
