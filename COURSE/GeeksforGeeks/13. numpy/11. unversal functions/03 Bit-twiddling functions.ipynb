{
 "cells": [
  {
   "cell_type": "code",
   "execution_count": 1,
   "id": "04e63192",
   "metadata": {},
   "outputs": [],
   "source": [
    "import numpy as np"
   ]
  },
  {
   "cell_type": "code",
   "execution_count": 2,
   "id": "b158abae",
   "metadata": {},
   "outputs": [],
   "source": [
    "# construct an array of even and odd numbers\n",
    "even = np.array([0, 2, 4, 6, 8, 16, 32])\n",
    "odd = np.array([1, 3, 5, 7, 9, 17, 33])"
   ]
  },
  {
   "cell_type": "code",
   "execution_count": 3,
   "id": "ae95f85c",
   "metadata": {},
   "outputs": [],
   "source": [
    "# bitwise operations"
   ]
  },
  {
   "cell_type": "code",
   "execution_count": 4,
   "id": "2d59511b",
   "metadata": {},
   "outputs": [
    {
     "data": {
      "text/plain": [
       "array([ 0,  2,  4,  6,  8, 16, 32], dtype=int32)"
      ]
     },
     "execution_count": 4,
     "metadata": {},
     "output_type": "execute_result"
    }
   ],
   "source": [
    "# and\n",
    "np.bitwise_and(even,odd)"
   ]
  },
  {
   "cell_type": "code",
   "execution_count": 5,
   "id": "ef182005",
   "metadata": {},
   "outputs": [
    {
     "data": {
      "text/plain": [
       "array([ 1,  3,  5,  7,  9, 17, 33], dtype=int32)"
      ]
     },
     "execution_count": 5,
     "metadata": {},
     "output_type": "execute_result"
    }
   ],
   "source": [
    "# or\n",
    "np.bitwise_or(even,odd)"
   ]
  },
  {
   "cell_type": "code",
   "execution_count": 6,
   "id": "edf17635",
   "metadata": {},
   "outputs": [
    {
     "data": {
      "text/plain": [
       "array([1, 1, 1, 1, 1, 1, 1], dtype=int32)"
      ]
     },
     "execution_count": 6,
     "metadata": {},
     "output_type": "execute_result"
    }
   ],
   "source": [
    "# xor\n",
    "np.bitwise_xor(even,odd)"
   ]
  },
  {
   "cell_type": "code",
   "execution_count": 7,
   "id": "6cd9043f",
   "metadata": {},
   "outputs": [
    {
     "data": {
      "text/plain": [
       "array([ -1,  -3,  -5,  -7,  -9, -17, -33], dtype=int32)"
      ]
     },
     "execution_count": 7,
     "metadata": {},
     "output_type": "execute_result"
    }
   ],
   "source": [
    "# invert or not\n",
    "np.invert(even)"
   ]
  },
  {
   "cell_type": "code",
   "execution_count": 8,
   "id": "798966e0",
   "metadata": {},
   "outputs": [
    {
     "data": {
      "text/plain": [
       "array([ 0,  4,  8, 12, 16, 32, 64], dtype=int32)"
      ]
     },
     "execution_count": 8,
     "metadata": {},
     "output_type": "execute_result"
    }
   ],
   "source": [
    "# left shift\n",
    "np.left_shift(even,1)"
   ]
  },
  {
   "cell_type": "code",
   "execution_count": 9,
   "id": "7343b16f",
   "metadata": {},
   "outputs": [
    {
     "data": {
      "text/plain": [
       "array([ 0,  1,  2,  3,  4,  8, 16], dtype=int32)"
      ]
     },
     "execution_count": 9,
     "metadata": {},
     "output_type": "execute_result"
    }
   ],
   "source": [
    "# right shift\n",
    "np.right_shift(even,1)"
   ]
  },
  {
   "cell_type": "code",
   "execution_count": null,
   "id": "34c6c374",
   "metadata": {},
   "outputs": [],
   "source": []
  }
 ],
 "metadata": {
  "kernelspec": {
   "display_name": "Python 3 (ipykernel)",
   "language": "python",
   "name": "python3"
  },
  "language_info": {
   "codemirror_mode": {
    "name": "ipython",
    "version": 3
   },
   "file_extension": ".py",
   "mimetype": "text/x-python",
   "name": "python",
   "nbconvert_exporter": "python",
   "pygments_lexer": "ipython3",
   "version": "3.9.12"
  }
 },
 "nbformat": 4,
 "nbformat_minor": 5
}
