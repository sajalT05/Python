{
 "cells": [
  {
   "cell_type": "code",
   "execution_count": 1,
   "id": "6e6240b8",
   "metadata": {},
   "outputs": [],
   "source": [
    "import numpy as np"
   ]
  },
  {
   "cell_type": "code",
   "execution_count": 17,
   "id": "159e9f2b",
   "metadata": {},
   "outputs": [],
   "source": [
    "a=np.array([[3.7,1.2,52.5,3.54,65.91],[50,7,99,0,794]])"
   ]
  },
  {
   "cell_type": "code",
   "execution_count": 18,
   "id": "80fe8c6c",
   "metadata": {},
   "outputs": [
    {
     "name": "stdout",
     "output_type": "stream",
     "text": [
      "[[  3.7    1.2   52.5    3.54  65.91]\n",
      " [ 50.     7.    99.     0.   794.  ]]\n"
     ]
    }
   ],
   "source": [
    "print(a)"
   ]
  },
  {
   "cell_type": "code",
   "execution_count": 19,
   "id": "52a22dd6",
   "metadata": {},
   "outputs": [
    {
     "data": {
      "text/plain": [
       "99.0"
      ]
     },
     "execution_count": 19,
     "metadata": {},
     "output_type": "execute_result"
    }
   ],
   "source": [
    "# get specific element\n",
    "# array[row,column]\n",
    "# rows: 0,1,2,...\n",
    "# columns: 0,1,2,...\n",
    "a[1,2]"
   ]
  },
  {
   "cell_type": "code",
   "execution_count": 20,
   "id": "7a1fa0bb",
   "metadata": {},
   "outputs": [
    {
     "data": {
      "text/plain": [
       "array([ 50.,   7.,  99.,   0., 794.])"
      ]
     },
     "execution_count": 20,
     "metadata": {},
     "output_type": "execute_result"
    }
   ],
   "source": [
    "# get specific row\n",
    "# array[row,:]\n",
    "a[1,:]"
   ]
  },
  {
   "cell_type": "code",
   "execution_count": 21,
   "id": "60a5b60b",
   "metadata": {},
   "outputs": [
    {
     "data": {
      "text/plain": [
       "array([1.2, 7. ])"
      ]
     },
     "execution_count": 21,
     "metadata": {},
     "output_type": "execute_result"
    }
   ],
   "source": [
    "# get specific column\n",
    "# array[:,column]\n",
    "a[:,1]"
   ]
  },
  {
   "cell_type": "code",
   "execution_count": 26,
   "id": "ffb86fc6",
   "metadata": {},
   "outputs": [
    {
     "data": {
      "text/plain": [
       "array([1.2 , 3.54])"
      ]
     },
     "execution_count": 26,
     "metadata": {},
     "output_type": "execute_result"
    }
   ],
   "source": [
    "# get specific set of elements\n",
    "# silcing wit index position\n",
    "# array[row,start-index:end-index:step-seize]\n",
    "a[0,1:5:2]"
   ]
  },
  {
   "cell_type": "code",
   "execution_count": null,
   "id": "37dc8d4c",
   "metadata": {},
   "outputs": [],
   "source": []
  }
 ],
 "metadata": {
  "kernelspec": {
   "display_name": "Python 3 (ipykernel)",
   "language": "python",
   "name": "python3"
  },
  "language_info": {
   "codemirror_mode": {
    "name": "ipython",
    "version": 3
   },
   "file_extension": ".py",
   "mimetype": "text/x-python",
   "name": "python",
   "nbconvert_exporter": "python",
   "pygments_lexer": "ipython3",
   "version": "3.9.7"
  }
 },
 "nbformat": 4,
 "nbformat_minor": 5
}
