{
 "cells": [
  {
   "cell_type": "code",
   "execution_count": 1,
   "id": "cbf9674d",
   "metadata": {},
   "outputs": [],
   "source": [
    "import numpy as np"
   ]
  },
  {
   "cell_type": "code",
   "execution_count": 5,
   "id": "8789f20f",
   "metadata": {},
   "outputs": [
    {
     "ename": "ValueError",
     "evalue": "Some errors were detected !\n    Line #2 (got 1 columns instead of 26)\n    Line #3 (got 1 columns instead of 26)\n    Line #4 (got 1 columns instead of 26)\n    Line #5 (got 1 columns instead of 26)\n    Line #6 (got 1 columns instead of 26)\n    Line #7 (got 1 columns instead of 26)\n    Line #8 (got 1 columns instead of 26)\n    Line #9 (got 1 columns instead of 26)\n    Line #10 (got 1 columns instead of 26)\n    Line #11 (got 1 columns instead of 26)\n    Line #12 (got 1 columns instead of 26)\n    Line #13 (got 1 columns instead of 26)\n    Line #14 (got 1 columns instead of 26)\n    Line #15 (got 2 columns instead of 26)\n    Line #16 (got 1 columns instead of 26)\n    Line #17 (got 1 columns instead of 26)\n    Line #18 (got 1 columns instead of 26)\n    Line #19 (got 1 columns instead of 26)\n    Line #20 (got 1 columns instead of 26)\n    Line #21 (got 1 columns instead of 26)\n    Line #22 (got 2 columns instead of 26)\n    Line #23 (got 1 columns instead of 26)\n    Line #24 (got 1 columns instead of 26)\n    Line #25 (got 1 columns instead of 26)\n    Line #26 (got 2 columns instead of 26)\n    Line #27 (got 1 columns instead of 26)\n    Line #28 (got 1 columns instead of 26)\n    Line #29 (got 1 columns instead of 26)\n    Line #30 (got 1 columns instead of 26)\n    Line #31 (got 1 columns instead of 26)\n    Line #32 (got 2 columns instead of 26)\n    Line #33 (got 1 columns instead of 26)\n    Line #34 (got 1 columns instead of 26)\n    Line #35 (got 2 columns instead of 26)\n    Line #36 (got 1 columns instead of 26)\n    Line #37 (got 2 columns instead of 26)\n    Line #38 (got 1 columns instead of 26)\n    Line #39 (got 1 columns instead of 26)\n    Line #40 (got 1 columns instead of 26)\n    Line #41 (got 1 columns instead of 26)\n    Line #42 (got 2 columns instead of 26)\n    Line #43 (got 2 columns instead of 26)\n    Line #44 (got 1 columns instead of 26)\n    Line #45 (got 2 columns instead of 26)",
     "output_type": "error",
     "traceback": [
      "\u001b[1;31m---------------------------------------------------------------------------\u001b[0m",
      "\u001b[1;31mValueError\u001b[0m                                Traceback (most recent call last)",
      "\u001b[1;32m~\\AppData\\Local\\Temp/ipykernel_15696/1140615317.py\u001b[0m in \u001b[0;36m<module>\u001b[1;34m\u001b[0m\n\u001b[1;32m----> 1\u001b[1;33m \u001b[0mnp\u001b[0m\u001b[1;33m.\u001b[0m\u001b[0mgenfromtxt\u001b[0m\u001b[1;33m(\u001b[0m\u001b[1;34m'dataset.csv'\u001b[0m\u001b[1;33m)\u001b[0m\u001b[1;33m\u001b[0m\u001b[1;33m\u001b[0m\u001b[0m\n\u001b[0m",
      "\u001b[1;32mD:\\Anaconda\\lib\\site-packages\\numpy\\lib\\npyio.py\u001b[0m in \u001b[0;36mgenfromtxt\u001b[1;34m(fname, dtype, comments, delimiter, skip_header, skip_footer, converters, missing_values, filling_values, usecols, names, excludelist, deletechars, replace_space, autostrip, case_sensitive, defaultfmt, unpack, usemask, loose, invalid_raise, max_rows, encoding, like)\u001b[0m\n\u001b[0;32m   2120\u001b[0m             \u001b[1;31m# Raise an exception ?\u001b[0m\u001b[1;33m\u001b[0m\u001b[1;33m\u001b[0m\u001b[0m\n\u001b[0;32m   2121\u001b[0m             \u001b[1;32mif\u001b[0m \u001b[0minvalid_raise\u001b[0m\u001b[1;33m:\u001b[0m\u001b[1;33m\u001b[0m\u001b[1;33m\u001b[0m\u001b[0m\n\u001b[1;32m-> 2122\u001b[1;33m                 \u001b[1;32mraise\u001b[0m \u001b[0mValueError\u001b[0m\u001b[1;33m(\u001b[0m\u001b[0merrmsg\u001b[0m\u001b[1;33m)\u001b[0m\u001b[1;33m\u001b[0m\u001b[1;33m\u001b[0m\u001b[0m\n\u001b[0m\u001b[0;32m   2123\u001b[0m             \u001b[1;31m# Issue a warning ?\u001b[0m\u001b[1;33m\u001b[0m\u001b[1;33m\u001b[0m\u001b[0m\n\u001b[0;32m   2124\u001b[0m             \u001b[1;32melse\u001b[0m\u001b[1;33m:\u001b[0m\u001b[1;33m\u001b[0m\u001b[1;33m\u001b[0m\u001b[0m\n",
      "\u001b[1;31mValueError\u001b[0m: Some errors were detected !\n    Line #2 (got 1 columns instead of 26)\n    Line #3 (got 1 columns instead of 26)\n    Line #4 (got 1 columns instead of 26)\n    Line #5 (got 1 columns instead of 26)\n    Line #6 (got 1 columns instead of 26)\n    Line #7 (got 1 columns instead of 26)\n    Line #8 (got 1 columns instead of 26)\n    Line #9 (got 1 columns instead of 26)\n    Line #10 (got 1 columns instead of 26)\n    Line #11 (got 1 columns instead of 26)\n    Line #12 (got 1 columns instead of 26)\n    Line #13 (got 1 columns instead of 26)\n    Line #14 (got 1 columns instead of 26)\n    Line #15 (got 2 columns instead of 26)\n    Line #16 (got 1 columns instead of 26)\n    Line #17 (got 1 columns instead of 26)\n    Line #18 (got 1 columns instead of 26)\n    Line #19 (got 1 columns instead of 26)\n    Line #20 (got 1 columns instead of 26)\n    Line #21 (got 1 columns instead of 26)\n    Line #22 (got 2 columns instead of 26)\n    Line #23 (got 1 columns instead of 26)\n    Line #24 (got 1 columns instead of 26)\n    Line #25 (got 1 columns instead of 26)\n    Line #26 (got 2 columns instead of 26)\n    Line #27 (got 1 columns instead of 26)\n    Line #28 (got 1 columns instead of 26)\n    Line #29 (got 1 columns instead of 26)\n    Line #30 (got 1 columns instead of 26)\n    Line #31 (got 1 columns instead of 26)\n    Line #32 (got 2 columns instead of 26)\n    Line #33 (got 1 columns instead of 26)\n    Line #34 (got 1 columns instead of 26)\n    Line #35 (got 2 columns instead of 26)\n    Line #36 (got 1 columns instead of 26)\n    Line #37 (got 2 columns instead of 26)\n    Line #38 (got 1 columns instead of 26)\n    Line #39 (got 1 columns instead of 26)\n    Line #40 (got 1 columns instead of 26)\n    Line #41 (got 1 columns instead of 26)\n    Line #42 (got 2 columns instead of 26)\n    Line #43 (got 2 columns instead of 26)\n    Line #44 (got 1 columns instead of 26)\n    Line #45 (got 2 columns instead of 26)"
     ]
    }
   ],
   "source": [
    "# read a csv file\n",
    "np.genfromtxt('dataset.csv')"
   ]
  },
  {
   "cell_type": "code",
   "execution_count": null,
   "id": "f6562374",
   "metadata": {},
   "outputs": [],
   "source": []
  },
  {
   "cell_type": "code",
   "execution_count": null,
   "id": "94455b52",
   "metadata": {},
   "outputs": [],
   "source": []
  },
  {
   "cell_type": "code",
   "execution_count": null,
   "id": "f53a8457",
   "metadata": {},
   "outputs": [],
   "source": []
  }
 ],
 "metadata": {
  "kernelspec": {
   "display_name": "Python 3 (ipykernel)",
   "language": "python",
   "name": "python3"
  },
  "language_info": {
   "codemirror_mode": {
    "name": "ipython",
    "version": 3
   },
   "file_extension": ".py",
   "mimetype": "text/x-python",
   "name": "python",
   "nbconvert_exporter": "python",
   "pygments_lexer": "ipython3",
   "version": "3.9.7"
  }
 },
 "nbformat": 4,
 "nbformat_minor": 5
}
