{
 "cells": [
  {
   "cell_type": "code",
   "execution_count": 1,
   "id": "a0a7be33",
   "metadata": {},
   "outputs": [],
   "source": [
    "import numpy as np"
   ]
  },
  {
   "cell_type": "code",
   "execution_count": 2,
   "id": "c1ba7844",
   "metadata": {},
   "outputs": [],
   "source": [
    "a=np.array([[18,92,63],[64,88,27]])"
   ]
  },
  {
   "cell_type": "code",
   "execution_count": 3,
   "id": "660715c4",
   "metadata": {},
   "outputs": [
    {
     "data": {
      "text/plain": [
       "array([[18, 92, 63],\n",
       "       [64, 88, 27]])"
      ]
     },
     "execution_count": 3,
     "metadata": {},
     "output_type": "execute_result"
    }
   ],
   "source": [
    "# array of (2,3)\n",
    "a"
   ]
  },
  {
   "cell_type": "code",
   "execution_count": 5,
   "id": "3a41fd1c",
   "metadata": {},
   "outputs": [
    {
     "data": {
      "text/plain": [
       "array([[18, 92],\n",
       "       [63, 64],\n",
       "       [88, 27]])"
      ]
     },
     "execution_count": 5,
     "metadata": {},
     "output_type": "execute_result"
    }
   ],
   "source": [
    "# reshape into (3,2)\n",
    "a.reshape(3,2)"
   ]
  },
  {
   "cell_type": "code",
   "execution_count": 16,
   "id": "df7a44e2",
   "metadata": {},
   "outputs": [],
   "source": [
    "a=np.array([1,3,5,7])\n",
    "b=np.array([[2,4,6,8],[10,20,30,40]])"
   ]
  },
  {
   "cell_type": "code",
   "execution_count": 17,
   "id": "098e803e",
   "metadata": {},
   "outputs": [
    {
     "data": {
      "text/plain": [
       "array([[ 1,  3,  5,  7],\n",
       "       [ 2,  4,  6,  8],\n",
       "       [10, 20, 30, 40]])"
      ]
     },
     "execution_count": 17,
     "metadata": {},
     "output_type": "execute_result"
    }
   ],
   "source": [
    "# vertical stacking\n",
    "# np.vstack([array1,array2])\n",
    "# numbers of columns must be same\n",
    "np.vstack([a,b])"
   ]
  },
  {
   "cell_type": "code",
   "execution_count": 23,
   "id": "4d837a86",
   "metadata": {},
   "outputs": [],
   "source": [
    "a=np.array([1,3,5])\n",
    "b=np.array([2,4,6,8])"
   ]
  },
  {
   "cell_type": "code",
   "execution_count": 24,
   "id": "b29fbb7d",
   "metadata": {},
   "outputs": [
    {
     "data": {
      "text/plain": [
       "array([1, 3, 5, 2, 4, 6, 8])"
      ]
     },
     "execution_count": 24,
     "metadata": {},
     "output_type": "execute_result"
    }
   ],
   "source": [
    "# horizontal stacking\n",
    "# np.hstack([array1,array2])\n",
    "# numbers of rows must be same\n",
    "np.hstack([a,b])"
   ]
  },
  {
   "cell_type": "code",
   "execution_count": null,
   "id": "e6d9cff7",
   "metadata": {},
   "outputs": [],
   "source": []
  }
 ],
 "metadata": {
  "kernelspec": {
   "display_name": "Python 3 (ipykernel)",
   "language": "python",
   "name": "python3"
  },
  "language_info": {
   "codemirror_mode": {
    "name": "ipython",
    "version": 3
   },
   "file_extension": ".py",
   "mimetype": "text/x-python",
   "name": "python",
   "nbconvert_exporter": "python",
   "pygments_lexer": "ipython3",
   "version": "3.9.7"
  }
 },
 "nbformat": 4,
 "nbformat_minor": 5
}
