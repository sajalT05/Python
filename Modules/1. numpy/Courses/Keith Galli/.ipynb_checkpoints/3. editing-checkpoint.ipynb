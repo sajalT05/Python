{
 "cells": [
  {
   "cell_type": "code",
   "execution_count": 1,
   "id": "fa3a564c",
   "metadata": {},
   "outputs": [],
   "source": [
    "import numpy as np"
   ]
  },
  {
   "cell_type": "code",
   "execution_count": 2,
   "id": "a8341e1a",
   "metadata": {},
   "outputs": [],
   "source": [
    "a=np.array([[3.7,1.2,52.5,3.54,65.91],[50,7,99,0,794]])"
   ]
  },
  {
   "cell_type": "code",
   "execution_count": 3,
   "id": "dcdec39a",
   "metadata": {},
   "outputs": [
    {
     "data": {
      "text/plain": [
       "array([[  3.7 ,   1.2 ,  52.5 ,   3.54,  65.91],\n",
       "       [ 50.  ,   7.  ,  99.  ,   0.  , 794.  ]])"
      ]
     },
     "execution_count": 3,
     "metadata": {},
     "output_type": "execute_result"
    }
   ],
   "source": [
    "a"
   ]
  },
  {
   "cell_type": "code",
   "execution_count": 5,
   "id": "295689ac",
   "metadata": {},
   "outputs": [
    {
     "data": {
      "text/plain": [
       "array([[  3.7 ,   1.2 ,  54.6 ,   3.54,  65.91],\n",
       "       [ 50.  ,   7.  ,  99.  ,   0.  , 794.  ]])"
      ]
     },
     "execution_count": 5,
     "metadata": {},
     "output_type": "execute_result"
    }
   ],
   "source": [
    "# replace element\n",
    "a[0,2]=54.6\n",
    "a"
   ]
  },
  {
   "cell_type": "code",
   "execution_count": 6,
   "id": "523239e1",
   "metadata": {},
   "outputs": [
    {
     "data": {
      "text/plain": [
       "array([[  6.1 ,   2.5 ,  96.2 ,   5.27,  75.34],\n",
       "       [ 50.  ,   7.  ,  99.  ,   0.  , 794.  ]])"
      ]
     },
     "execution_count": 6,
     "metadata": {},
     "output_type": "execute_result"
    }
   ],
   "source": [
    "# replace row\n",
    "a[0,:]=[6.1,2.5,96.2,5.27,75.34]\n",
    "a"
   ]
  },
  {
   "cell_type": "code",
   "execution_count": null,
   "id": "f8714f28",
   "metadata": {},
   "outputs": [],
   "source": []
  }
 ],
 "metadata": {
  "kernelspec": {
   "display_name": "Python 3 (ipykernel)",
   "language": "python",
   "name": "python3"
  },
  "language_info": {
   "codemirror_mode": {
    "name": "ipython",
    "version": 3
   },
   "file_extension": ".py",
   "mimetype": "text/x-python",
   "name": "python",
   "nbconvert_exporter": "python",
   "pygments_lexer": "ipython3",
   "version": "3.9.7"
  }
 },
 "nbformat": 4,
 "nbformat_minor": 5
}
