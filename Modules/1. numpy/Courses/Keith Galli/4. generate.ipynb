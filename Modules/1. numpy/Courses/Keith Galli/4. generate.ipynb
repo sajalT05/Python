{
 "cells": [
  {
   "cell_type": "code",
   "execution_count": 1,
   "id": "2dd747f1",
   "metadata": {},
   "outputs": [],
   "source": [
    "import numpy as np"
   ]
  },
  {
   "cell_type": "code",
   "execution_count": 10,
   "id": "307d1b6d",
   "metadata": {},
   "outputs": [
    {
     "data": {
      "text/plain": [
       "array([[0., 0., 0.],\n",
       "       [0., 0., 0.]])"
      ]
     },
     "execution_count": 10,
     "metadata": {},
     "output_type": "execute_result"
    }
   ],
   "source": [
    "# all zeros\n",
    "np.zeros((2,3))"
   ]
  },
  {
   "cell_type": "code",
   "execution_count": 11,
   "id": "17a46fb1",
   "metadata": {},
   "outputs": [
    {
     "data": {
      "text/plain": [
       "array([[1., 1., 1.],\n",
       "       [1., 1., 1.]])"
      ]
     },
     "execution_count": 11,
     "metadata": {},
     "output_type": "execute_result"
    }
   ],
   "source": [
    "# all ones\n",
    "np.ones((2,3))"
   ]
  },
  {
   "cell_type": "code",
   "execution_count": 12,
   "id": "b0924934",
   "metadata": {},
   "outputs": [
    {
     "data": {
      "text/plain": [
       "array([[51, 51, 51],\n",
       "       [51, 51, 51]])"
      ]
     },
     "execution_count": 12,
     "metadata": {},
     "output_type": "execute_result"
    }
   ],
   "source": [
    "# all same integer\n",
    "np.full((2,3),51)"
   ]
  },
  {
   "cell_type": "code",
   "execution_count": 13,
   "id": "892e88a4",
   "metadata": {},
   "outputs": [
    {
     "data": {
      "text/plain": [
       "array([[0, 1, 2],\n",
       "       [3, 4, 5]])"
      ]
     },
     "execution_count": 13,
     "metadata": {},
     "output_type": "execute_result"
    }
   ],
   "source": [
    "# numbers in a sequence of range\n",
    "np.arange(6).reshape(2,3)"
   ]
  },
  {
   "cell_type": "code",
   "execution_count": 21,
   "id": "41027976",
   "metadata": {},
   "outputs": [
    {
     "name": "stdout",
     "output_type": "stream",
     "text": [
      "[[23 23 23 23 23]\n",
      " [23 23 23 23 23]]\n",
      "[[85. 85. 85. 85. 85.]\n",
      " [85. 85. 85. 85. 85.]]\n"
     ]
    }
   ],
   "source": [
    "# take shape of another array\n",
    "a=np.array([[3.7,1.2,52.5,3.54,65.91],[50,7,99,0,794]])\n",
    "b=np.full((a.shape),23)\n",
    "# newArray=np.full_like(|oldArrayName|.shape,|number|)\n",
    "c=np.full_like(a,85)\n",
    "print(b)\n",
    "print(c)"
   ]
  },
  {
   "cell_type": "markdown",
   "id": "1e655cfe",
   "metadata": {},
   "source": [
    "random numbers"
   ]
  },
  {
   "cell_type": "code",
   "execution_count": 23,
   "id": "ac8bf9a9",
   "metadata": {},
   "outputs": [
    {
     "data": {
      "text/plain": [
       "array([[0.79276898, 0.53996663, 0.30167654, 0.39444786, 0.41441798],\n",
       "       [0.2677718 , 0.04244017, 0.58173701, 0.88663321, 0.84216539]])"
      ]
     },
     "execution_count": 23,
     "metadata": {},
     "output_type": "execute_result"
    }
   ],
   "source": [
    "# random decimal\n",
    "# np.random.rand(rows,columns)\n",
    "np.random.rand(2,5)"
   ]
  },
  {
   "cell_type": "code",
   "execution_count": 26,
   "id": "a9ff24c2",
   "metadata": {},
   "outputs": [
    {
     "data": {
      "text/plain": [
       "array([[5, 6, 7, 7],\n",
       "       [5, 7, 7, 7],\n",
       "       [5, 7, 5, 7]])"
      ]
     },
     "execution_count": 26,
     "metadata": {},
     "output_type": "execute_result"
    }
   ],
   "source": [
    "# random integer\n",
    "# np.random.randint(smallest number,highest number,size=(rows,columns))\n",
    "np.random.randint(5,8,size=(3,4))"
   ]
  },
  {
   "cell_type": "code",
   "execution_count": 28,
   "id": "2c015032",
   "metadata": {},
   "outputs": [
    {
     "data": {
      "text/plain": [
       "array([[1., 0., 0., 0., 0.],\n",
       "       [0., 1., 0., 0., 0.],\n",
       "       [0., 0., 1., 0., 0.],\n",
       "       [0., 0., 0., 1., 0.],\n",
       "       [0., 0., 0., 0., 1.]])"
      ]
     },
     "execution_count": 28,
     "metadata": {},
     "output_type": "execute_result"
    }
   ],
   "source": [
    "# Identity Matrix: square matrix\n",
    "np.identity(5)"
   ]
  },
  {
   "cell_type": "code",
   "execution_count": 51,
   "id": "577d50fa",
   "metadata": {},
   "outputs": [
    {
     "name": "stdout",
     "output_type": "stream",
     "text": [
      "array a: [[1 2 3]]\n"
     ]
    },
    {
     "data": {
      "text/plain": [
       "array([[1, 2, 3, 4],\n",
       "       [1, 2, 3, 4],\n",
       "       [1, 2, 3, 4],\n",
       "       [1, 2, 3, 4],\n",
       "       [1, 2, 3, 4]])"
      ]
     },
     "execution_count": 51,
     "metadata": {},
     "output_type": "execute_result"
    }
   ],
   "source": [
    "# repeation of array\n",
    "a=np.array([[1,2,3]])\n",
    "print(f\"array a: {a}\")\n",
    "# np.repeat(arrayRepeat,number of rows,axis=0)\n",
    "np.repeat(a,5,axis=0)"
   ]
  }
 ],
 "metadata": {
  "kernelspec": {
   "display_name": "Python 3 (ipykernel)",
   "language": "python",
   "name": "python3"
  },
  "language_info": {
   "codemirror_mode": {
    "name": "ipython",
    "version": 3
   },
   "file_extension": ".py",
   "mimetype": "text/x-python",
   "name": "python",
   "nbconvert_exporter": "python",
   "pygments_lexer": "ipython3",
   "version": "3.9.7"
  }
 },
 "nbformat": 4,
 "nbformat_minor": 5
}
