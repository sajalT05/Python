{
 "cells": [
  {
   "cell_type": "code",
   "execution_count": 1,
   "id": "8c496b52",
   "metadata": {},
   "outputs": [],
   "source": [
    "import numpy as np"
   ]
  },
  {
   "cell_type": "code",
   "execution_count": 2,
   "id": "d69cf932",
   "metadata": {},
   "outputs": [],
   "source": [
    "a=np.array([[3.7,1.2,52.5,3.54,65.91],[50,7,99,0,794]])"
   ]
  },
  {
   "cell_type": "code",
   "execution_count": 3,
   "id": "ada28cf7",
   "metadata": {},
   "outputs": [],
   "source": [
    "# use copy() function"
   ]
  },
  {
   "cell_type": "code",
   "execution_count": 4,
   "id": "da9e51d4",
   "metadata": {},
   "outputs": [],
   "source": [
    "b=a.copy()"
   ]
  },
  {
   "cell_type": "code",
   "execution_count": 7,
   "id": "74ba6341",
   "metadata": {},
   "outputs": [],
   "source": [
    "b[0]=100"
   ]
  },
  {
   "cell_type": "code",
   "execution_count": 8,
   "id": "e0b3ff26",
   "metadata": {},
   "outputs": [
    {
     "data": {
      "text/plain": [
       "array([[  3.7 ,   1.2 ,  52.5 ,   3.54,  65.91],\n",
       "       [ 50.  ,   7.  ,  99.  ,   0.  , 794.  ]])"
      ]
     },
     "execution_count": 8,
     "metadata": {},
     "output_type": "execute_result"
    }
   ],
   "source": [
    "a"
   ]
  },
  {
   "cell_type": "code",
   "execution_count": 9,
   "id": "e6141601",
   "metadata": {},
   "outputs": [
    {
     "data": {
      "text/plain": [
       "array([[100., 100., 100., 100., 100.],\n",
       "       [ 50.,   7.,  99.,   0., 794.]])"
      ]
     },
     "execution_count": 9,
     "metadata": {},
     "output_type": "execute_result"
    }
   ],
   "source": [
    "b"
   ]
  },
  {
   "cell_type": "code",
   "execution_count": null,
   "id": "0590ebf0",
   "metadata": {},
   "outputs": [],
   "source": []
  }
 ],
 "metadata": {
  "kernelspec": {
   "display_name": "Python 3 (ipykernel)",
   "language": "python",
   "name": "python3"
  },
  "language_info": {
   "codemirror_mode": {
    "name": "ipython",
    "version": 3
   },
   "file_extension": ".py",
   "mimetype": "text/x-python",
   "name": "python",
   "nbconvert_exporter": "python",
   "pygments_lexer": "ipython3",
   "version": "3.9.7"
  }
 },
 "nbformat": 4,
 "nbformat_minor": 5
}
